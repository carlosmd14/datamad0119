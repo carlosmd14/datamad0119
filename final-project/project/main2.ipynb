{
 "cells": [
  {
   "cell_type": "code",
   "execution_count": 1,
   "metadata": {},
   "outputs": [],
   "source": [
    "import pandas as pd\n",
    "import numpy as np\n",
    "import json\n",
    "from datetime import datetime\n",
    "from dotenv import load_dotenv\n",
    "import os\n",
    "import requests\n",
    "from bs4 import BeautifulSoup\n",
    "from statsmodels.multivariate.pca import PCA\n",
    "import matplotlib.pyplot as plt\n",
    "%matplotlib inline \n",
    "from sklearn.preprocessing import StandardScaler\n",
    "import seaborn as sns\n",
    "from sklearn.model_selection import train_test_split\n",
    "from sklearn import svm\n",
    "from sklearn.svm import SVR\n",
    "from sklearn.metrics import confusion_matrix, accuracy_score\n",
    "from sklearn import linear_model\n",
    "\n"
   ]
  },
  {
   "cell_type": "code",
   "execution_count": 2,
   "metadata": {},
   "outputs": [],
   "source": [
    "df8 = pd.read_csv('df8')"
   ]
  },
  {
   "cell_type": "code",
   "execution_count": 3,
   "metadata": {},
   "outputs": [],
   "source": [
    "df9 = df8.drop('release_date', axis=1)"
   ]
  },
  {
   "cell_type": "code",
   "execution_count": 4,
   "metadata": {},
   "outputs": [],
   "source": [
    "X = df9.loc[:, df9.columns != 'revenue']\n",
    "y = df9['revenue']"
   ]
  },
  {
   "cell_type": "code",
   "execution_count": 5,
   "metadata": {},
   "outputs": [],
   "source": [
    "X_train, X_test, y_train, y_test = train_test_split(X, y, test_size=0.2)\n"
   ]
  },
  {
   "cell_type": "code",
   "execution_count": 6,
   "metadata": {},
   "outputs": [],
   "source": [
    "clf = svm.SVR(gamma=0.000001)\n",
    "clf.fit(X_train, y_train) \n",
    "y_pred = clf.predict(X_test)"
   ]
  },
  {
   "cell_type": "code",
   "execution_count": 7,
   "metadata": {},
   "outputs": [
    {
     "data": {
      "text/plain": [
       "array([38574367.02018205, 38574366.90343253, 38574367.02018205,\n",
       "       38574369.64559403, 38574367.02018205, 38574367.00839028,\n",
       "       38574367.02018205, 38574367.02018205, 38574367.02018205,\n",
       "       38574368.12460173, 38574367.02018205, 38574367.42963161,\n",
       "       38574368.80667508, 38574367.02017876, 38574366.56098434,\n",
       "       38574367.02018218, 38574367.31661287, 38574367.01878697,\n",
       "       38574367.75454626, 38574364.62068852, 38574366.98228408,\n",
       "       38574366.6537229 , 38574367.85205824, 38574367.02018205,\n",
       "       38574372.2535862 , 38574367.36234611, 38574367.02018205,\n",
       "       38574367.02018205, 38574367.57561718, 38574367.02018205,\n",
       "       38574367.02018205, 38574367.02018205, 38574367.02018205,\n",
       "       38574367.02018205, 38574367.69520111, 38574369.26541216,\n",
       "       38574374.56885641, 38574367.03534456, 38574367.02018205,\n",
       "       38574367.02017485, 38574370.92336593, 38574370.55314635,\n",
       "       38574368.23566101, 38574367.02012914, 38574368.1007198 ,\n",
       "       38574367.02018205, 38574365.34628114, 38574367.0300239 ,\n",
       "       38574367.02018205, 38574367.02018205, 38574367.02018205,\n",
       "       38574367.02231244, 38574367.66322152, 38574366.39582815,\n",
       "       38574365.85950712, 38574363.62861933, 38574367.93442053,\n",
       "       38574371.54150584, 38574369.81095444, 38574367.04280427,\n",
       "       38574367.02018205, 38574367.02018205, 38574370.83270587,\n",
       "       38574365.35205946, 38574367.24355575, 38574366.02244184,\n",
       "       38574362.36050239, 38574369.38664365, 38574367.01732272,\n",
       "       38574366.98138878, 38574366.94189048, 38574367.02018205,\n",
       "       38574363.99302886, 38574366.73049629, 38574367.70567533,\n",
       "       38574368.42015596, 38574367.02018205, 38574366.56028342,\n",
       "       38574368.55895882, 38574368.09861191, 38574367.02018205,\n",
       "       38574367.17053655, 38574367.02018205, 38574369.81994867,\n",
       "       38574367.02018205, 38574367.71697904, 38574367.02018205,\n",
       "       38574368.43416807, 38574367.02006736, 38574366.29065598,\n",
       "       38574367.23899978, 38574367.15026316, 38574364.72225045,\n",
       "       38574366.90047088, 38574364.57399862, 38574367.10441119,\n",
       "       38574364.76228557, 38574372.32338966, 38574367.02018205,\n",
       "       38574367.02018205, 38574366.5012787 , 38574367.02018205,\n",
       "       38574367.02018205, 38574367.02018205, 38574367.16606283,\n",
       "       38574366.37086012, 38574367.02018205, 38574367.02018205,\n",
       "       38574365.04830281, 38574367.02018068, 38574366.27400659,\n",
       "       38574358.83266616, 38574367.02018205, 38574367.02018205,\n",
       "       38574367.02018205, 38574365.79911742, 38574368.73753627,\n",
       "       38574367.02018205, 38574367.02018205, 38574367.02018205,\n",
       "       38574368.32161422, 38574367.21573629, 38574367.02018205,\n",
       "       38574364.20698711, 38574365.69278052, 38574365.95308368,\n",
       "       38574367.35228924, 38574362.11060242, 38574367.83339851,\n",
       "       38574367.02018205, 38574367.02018206, 38574367.15679439,\n",
       "       38574366.00877053, 38574367.02018172, 38574367.02018205,\n",
       "       38574367.02018205, 38574367.76797617, 38574369.43377914,\n",
       "       38574367.02018205, 38574366.24440528, 38574372.12395574,\n",
       "       38574368.07064283, 38574365.73923784, 38574366.98786118,\n",
       "       38574366.18946301, 38574367.02018205, 38574370.30654985,\n",
       "       38574367.02018205, 38574364.71870144, 38574367.02018199,\n",
       "       38574368.21285706, 38574369.54831446, 38574367.4525665 ,\n",
       "       38574367.298064  , 38574367.3867205 , 38574367.02018205,\n",
       "       38574367.02018205, 38574367.02018205, 38574366.02219531,\n",
       "       38574367.02018205, 38574367.01947102, 38574367.02018205,\n",
       "       38574367.95758998, 38574370.78539657, 38574367.02669604,\n",
       "       38574367.02018205, 38574367.02993589, 38574367.87170489,\n",
       "       38574367.02018205, 38574361.79625314, 38574363.1172692 ,\n",
       "       38574366.89816215, 38574368.41856626, 38574367.02018874,\n",
       "       38574370.73401058, 38574373.77060214, 38574366.77366351,\n",
       "       38574367.02722143, 38574364.34608488, 38574364.37808924,\n",
       "       38574366.63252229, 38574369.72474376, 38574368.49717823,\n",
       "       38574367.02018205, 38574367.1596287 , 38574368.71681102,\n",
       "       38574359.6773577 , 38574367.02018205, 38574368.25057162,\n",
       "       38574373.15690871, 38574367.02018637, 38574367.50172588,\n",
       "       38574367.02018205, 38574367.02018205, 38574367.2539116 ,\n",
       "       38574367.02018205, 38574367.02018205, 38574366.18355631,\n",
       "       38574368.96942049, 38574363.79255062, 38574367.01536366,\n",
       "       38574365.93465284, 38574366.94977136, 38574366.22687361,\n",
       "       38574367.02018205, 38574367.99121486, 38574367.02018205,\n",
       "       38574368.07561512, 38574367.02018205, 38574367.2384333 ,\n",
       "       38574363.55826252, 38574367.95901722, 38574366.49586647,\n",
       "       38574364.63656489, 38574366.74580343, 38574368.46707984,\n",
       "       38574366.42307258, 38574367.02018205, 38574367.02018205,\n",
       "       38574367.02018205, 38574367.02018205, 38574367.02018205,\n",
       "       38574365.34471966, 38574368.89457072, 38574367.05296437,\n",
       "       38574371.29377034, 38574366.73006795, 38574373.77986531,\n",
       "       38574368.80642252, 38574369.32409681, 38574366.3019396 ,\n",
       "       38574367.02018205, 38574367.02018205, 38574367.02018205,\n",
       "       38574365.8116318 , 38574370.14731523, 38574366.87054997,\n",
       "       38574366.84583854, 38574373.54742423, 38574367.79941354,\n",
       "       38574367.01973142, 38574367.02018205, 38574367.04038831,\n",
       "       38574366.32304137, 38574366.82916819, 38574365.36230157,\n",
       "       38574367.71971381, 38574367.02018205, 38574367.02018205,\n",
       "       38574367.02018205, 38574366.65760034, 38574367.02018205,\n",
       "       38574367.39408857, 38574367.02018205, 38574361.5392032 ,\n",
       "       38574367.02143859, 38574367.02018205, 38574367.64235253,\n",
       "       38574367.12166557, 38574367.34873439, 38574366.14331329,\n",
       "       38574367.02018205, 38574366.68330449, 38574367.00807505,\n",
       "       38574361.68865528, 38574366.56330558, 38574367.02018205,\n",
       "       38574369.59679141, 38574366.55853748, 38574367.02018205,\n",
       "       38574364.51734196, 38574367.05179279, 38574364.59610572,\n",
       "       38574366.80648406, 38574367.02018205, 38574367.02374022,\n",
       "       38574365.95716652, 38574367.25642863, 38574367.03166932,\n",
       "       38574367.02018204, 38574366.78728159, 38574367.02018205,\n",
       "       38574366.63074544, 38574368.76504059, 38574367.02018205,\n",
       "       38574362.67631074, 38574367.87823991, 38574367.02017806,\n",
       "       38574369.95525349, 38574367.42092865, 38574366.28876208,\n",
       "       38574367.02856795, 38574366.32033928, 38574366.28748234,\n",
       "       38574367.02018872, 38574367.02012848, 38574365.57078522,\n",
       "       38574369.05858551, 38574367.02047564, 38574367.02018048,\n",
       "       38574367.02012891, 38574366.43879021, 38574366.23668266,\n",
       "       38574368.10438827, 38574360.87592444, 38574365.61365715,\n",
       "       38574367.04647461, 38574367.02018205, 38574367.90345718,\n",
       "       38574367.0204119 , 38574367.02018205, 38574367.02018205,\n",
       "       38574366.96719348, 38574368.26163125, 38574367.02018205,\n",
       "       38574367.02018205, 38574363.1210266 , 38574367.3925542 ,\n",
       "       38574362.55532704, 38574367.42362551, 38574369.66362001,\n",
       "       38574367.02018208, 38574367.10191188, 38574367.02018205,\n",
       "       38574367.91707621, 38574366.32399628, 38574368.75856364,\n",
       "       38574367.62572504, 38574365.12197995, 38574365.05891827,\n",
       "       38574365.82534003, 38574367.02018205, 38574367.02018205,\n",
       "       38574367.09323394, 38574369.56428289, 38574367.02030814,\n",
       "       38574367.02018205, 38574367.02018205, 38574367.02018205,\n",
       "       38574369.39326632, 38574367.02018205, 38574367.02018205,\n",
       "       38574368.76158255, 38574367.02018205, 38574367.10854692,\n",
       "       38574367.3418273 , 38574367.0811458 , 38574367.02018205,\n",
       "       38574369.34961389, 38574367.02018205, 38574367.02018205,\n",
       "       38574367.02018205, 38574371.30702187, 38574365.99327618,\n",
       "       38574368.19045406, 38574367.02018205, 38574368.49235998,\n",
       "       38574367.45771679, 38574368.87613498, 38574367.02018205,\n",
       "       38574366.02557735, 38574367.02018205, 38574367.02018205,\n",
       "       38574366.92499433, 38574367.02018205, 38574367.02054895,\n",
       "       38574366.91382097, 38574367.33802369, 38574365.7158125 ,\n",
       "       38574366.62722498, 38574367.20009904, 38574364.3523397 ,\n",
       "       38574367.02018205, 38574367.93335063, 38574362.92515605,\n",
       "       38574367.02018151, 38574367.24255075, 38574367.89074969,\n",
       "       38574367.96641119, 38574366.75854734, 38574374.0702295 ,\n",
       "       38574366.84883412, 38574367.51655673, 38574367.889994  ,\n",
       "       38574367.01616353, 38574368.06173836, 38574367.02018205,\n",
       "       38574367.99258534, 38574367.00191621, 38574366.99337585,\n",
       "       38574361.98502247, 38574367.55448219, 38574365.38724433,\n",
       "       38574367.02018204, 38574366.30164121, 38574367.02018205,\n",
       "       38574367.02018205, 38574367.02018205, 38574367.02018205,\n",
       "       38574366.48283573, 38574373.48416711, 38574365.09988078,\n",
       "       38574368.44615579, 38574365.87021704, 38574367.02018205,\n",
       "       38574366.62306103, 38574367.02018205, 38574369.8830694 ,\n",
       "       38574366.76686978, 38574366.17580356, 38574367.02018204,\n",
       "       38574367.10789953, 38574368.33168539, 38574367.702218  ,\n",
       "       38574366.99795601, 38574366.34218834, 38574367.02018205,\n",
       "       38574367.5935319 , 38574367.02018205, 38574367.02018205,\n",
       "       38574361.80708142, 38574367.06679986, 38574367.12902918,\n",
       "       38574368.32680465, 38574367.02018205, 38574367.70467159,\n",
       "       38574368.47568926, 38574362.96846219, 38574363.00943545,\n",
       "       38574363.5393155 , 38574367.02023402, 38574367.01572195,\n",
       "       38574367.17909914, 38574365.0349033 , 38574366.70083921,\n",
       "       38574369.11481317, 38574367.50020054, 38574367.9579201 ,\n",
       "       38574367.02018205, 38574367.02018205, 38574367.02018205,\n",
       "       38574366.42615765, 38574368.71200748, 38574367.22855356,\n",
       "       38574367.02801279, 38574367.2457428 , 38574368.89986033,\n",
       "       38574374.44106968, 38574367.02017812, 38574367.02018205,\n",
       "       38574367.02018211, 38574362.18615559, 38574367.02018205,\n",
       "       38574361.18763095, 38574363.35937303, 38574367.02018205,\n",
       "       38574367.02018205, 38574366.00520267, 38574367.04738738,\n",
       "       38574367.02018205, 38574366.00078665, 38574369.51881294,\n",
       "       38574362.06457809, 38574367.02018205, 38574366.53314961,\n",
       "       38574367.02018205, 38574369.67747717, 38574366.2605643 ,\n",
       "       38574362.67953713, 38574367.02018205, 38574366.55450907,\n",
       "       38574365.20812614, 38574367.42254637, 38574369.02058382,\n",
       "       38574367.37535655, 38574365.48654009, 38574367.02018205,\n",
       "       38574367.02018205, 38574367.06558561, 38574367.5133942 ,\n",
       "       38574367.02018205, 38574363.94734151, 38574364.32444602,\n",
       "       38574367.83503451, 38574367.02018205, 38574365.28464621,\n",
       "       38574367.02018205, 38574367.02018205, 38574367.02018205,\n",
       "       38574366.89486372, 38574368.68659571, 38574367.02018201,\n",
       "       38574367.44160785, 38574366.22290979, 38574367.5772194 ,\n",
       "       38574363.41173779, 38574366.29349143, 38574366.20854355,\n",
       "       38574366.3529225 , 38574367.25809127, 38574364.86296231,\n",
       "       38574368.71460561, 38574367.0201818 , 38574367.02018205,\n",
       "       38574367.02018205, 38574361.04549242, 38574368.19044602,\n",
       "       38574366.55273249, 38574367.00330398, 38574366.5464827 ,\n",
       "       38574367.02018205, 38574367.95090212, 38574368.48327466,\n",
       "       38574364.68938693, 38574372.33813583, 38574362.20082259,\n",
       "       38574367.02879626, 38574363.97828743, 38574366.42538241,\n",
       "       38574367.13760322, 38574368.84346861, 38574367.04437187,\n",
       "       38574367.02018205, 38574367.00770941, 38574367.02018205,\n",
       "       38574367.02819818, 38574367.73051959, 38574367.02018205,\n",
       "       38574367.02018205, 38574366.6700034 , 38574366.19037087,\n",
       "       38574362.56420226, 38574367.02018205, 38574369.63699841,\n",
       "       38574367.02018205, 38574367.02000055, 38574365.807953  ,\n",
       "       38574363.95687201, 38574369.84270114, 38574372.83139271,\n",
       "       38574366.53608892, 38574367.02018205, 38574367.02018205,\n",
       "       38574368.44503625, 38574367.01940315, 38574367.28558739,\n",
       "       38574367.21960283, 38574368.45040025, 38574366.91960431,\n",
       "       38574366.94111726, 38574367.07369652, 38574366.38919563,\n",
       "       38574367.02018205, 38574374.93705966, 38574372.30711263,\n",
       "       38574365.66475119, 38574363.7321792 , 38574366.62682253,\n",
       "       38574370.06273594, 38574367.02018205, 38574366.27484168,\n",
       "       38574368.01389983, 38574367.01988699, 38574366.97697239,\n",
       "       38574367.91452701, 38574367.02018205, 38574366.64824954,\n",
       "       38574367.02018002, 38574370.0004392 , 38574373.03839502,\n",
       "       38574367.15860232, 38574367.0177373 , 38574363.42498352,\n",
       "       38574367.02018205, 38574366.68884778, 38574368.07416372,\n",
       "       38574368.47781149, 38574367.19598566, 38574367.02018205,\n",
       "       38574367.58659258, 38574366.75989717, 38574367.02018205,\n",
       "       38574367.02018205, 38574367.69238598, 38574366.13423708,\n",
       "       38574367.01934738, 38574367.02018205, 38574367.02018205,\n",
       "       38574370.19398037, 38574368.0040633 , 38574374.23291203,\n",
       "       38574367.02018205, 38574367.02018205, 38574361.64865461,\n",
       "       38574362.55985416, 38574367.02017961, 38574369.28997775,\n",
       "       38574367.02018205, 38574367.02018205, 38574367.30775305,\n",
       "       38574367.02018205, 38574364.57105549, 38574367.02018205,\n",
       "       38574367.02018205, 38574366.4820968 , 38574367.02018205,\n",
       "       38574367.02018205, 38574367.02018205, 38574364.17741235,\n",
       "       38574367.02002449, 38574368.48778068, 38574367.02018205,\n",
       "       38574367.04565372, 38574368.63844066, 38574366.04676782,\n",
       "       38574366.45460878, 38574367.87431725, 38574362.59610018,\n",
       "       38574366.39854209, 38574367.02020684, 38574367.02018205,\n",
       "       38574367.02018205, 38574367.02018205, 38574368.65406313,\n",
       "       38574367.02018205, 38574367.02018206, 38574367.02018205,\n",
       "       38574366.74716859, 38574367.19520427, 38574368.14357905,\n",
       "       38574367.94766798, 38574367.59911984, 38574366.83486781,\n",
       "       38574367.02028303, 38574366.52479344, 38574367.02018205,\n",
       "       38574366.07350957, 38574367.82874167, 38574368.54894245,\n",
       "       38574367.01594745, 38574367.02018205, 38574367.15583616,\n",
       "       38574367.20557436, 38574367.02018205, 38574367.02018203,\n",
       "       38574368.50743487, 38574366.71850151, 38574367.02018205,\n",
       "       38574361.48703574, 38574367.02018205, 38574367.02041878,\n",
       "       38574367.03592438, 38574369.35948581, 38574367.45840587,\n",
       "       38574362.02144281, 38574366.25590423, 38574365.89088196,\n",
       "       38574367.02018205, 38574367.02018205, 38574367.04625946,\n",
       "       38574367.05766317, 38574367.01982953, 38574365.81767439,\n",
       "       38574367.02018205, 38574367.02018205, 38574369.8697218 ,\n",
       "       38574367.02018205, 38574368.60647437, 38574366.1805805 ,\n",
       "       38574364.97442064, 38574365.0550268 , 38574365.58950933,\n",
       "       38574368.94727672, 38574367.01443686, 38574368.17154708,\n",
       "       38574365.04071686, 38574367.02018205, 38574367.02018205,\n",
       "       38574367.02018205, 38574364.10707933, 38574367.1028672 ,\n",
       "       38574366.26863264, 38574367.0201932 , 38574367.83564671,\n",
       "       38574367.516151  , 38574367.6125941 , 38574366.53576294,\n",
       "       38574364.14488543, 38574365.96137162, 38574366.98544607,\n",
       "       38574367.0387097 , 38574367.02018205, 38574371.65873955,\n",
       "       38574362.04453291, 38574367.90240435, 38574369.75744676,\n",
       "       38574367.02018205, 38574363.08448164, 38574367.49845846,\n",
       "       38574367.02018205, 38574366.79408323, 38574366.862109  ,\n",
       "       38574367.01935069, 38574367.02018205, 38574368.84610018,\n",
       "       38574366.83829492, 38574367.19475093, 38574367.52749845,\n",
       "       38574364.84515727, 38574367.02018205, 38574366.36035854,\n",
       "       38574369.18797848, 38574369.20881742, 38574367.02018205,\n",
       "       38574367.98441303, 38574366.88056381, 38574368.03030457,\n",
       "       38574368.30144066, 38574371.24561986, 38574367.14655311,\n",
       "       38574371.21597837, 38574367.02018205, 38574366.51284584,\n",
       "       38574367.02018205, 38574367.19213285, 38574365.57282225,\n",
       "       38574363.48271171, 38574367.02018205, 38574369.93860278,\n",
       "       38574367.02018205, 38574367.02018164, 38574362.0754699 ,\n",
       "       38574375.93649725, 38574366.34613422, 38574367.52982558,\n",
       "       38574367.02018205, 38574367.02663478, 38574365.91734382,\n",
       "       38574367.02018205, 38574365.03398602, 38574363.09165093,\n",
       "       38574367.02646883, 38574365.31731508, 38574367.02018205,\n",
       "       38574367.3572605 , 38574370.86635543, 38574366.86254743,\n",
       "       38574367.02018205, 38574364.78878414, 38574366.25283071,\n",
       "       38574367.02018205, 38574367.02018205, 38574367.53882028,\n",
       "       38574367.02018205, 38574366.01726183, 38574368.18283222,\n",
       "       38574361.99334473, 38574370.96509098, 38574366.97656801,\n",
       "       38574366.83382595, 38574370.58330774, 38574367.02018205,\n",
       "       38574367.02018205, 38574366.39415646, 38574367.02018205,\n",
       "       38574366.92920327, 38574366.86014223, 38574367.02018205,\n",
       "       38574367.02018205, 38574367.02018205, 38574367.60802621,\n",
       "       38574367.02018205, 38574367.02018205, 38574370.15898395,\n",
       "       38574367.02016689, 38574367.02018205, 38574367.41156527,\n",
       "       38574367.02132076, 38574367.02018205, 38574368.45385967,\n",
       "       38574364.12973002, 38574366.36418191, 38574367.02018205,\n",
       "       38574363.92409237, 38574367.01990563, 38574365.02488439,\n",
       "       38574365.60460147, 38574362.50767013, 38574364.2074945 ,\n",
       "       38574366.05084645, 38574365.97939885, 38574366.98256481,\n",
       "       38574367.4441377 , 38574367.02018205, 38574367.2043123 ,\n",
       "       38574363.01231248, 38574369.34559819, 38574367.44000532,\n",
       "       38574367.02018205, 38574366.88369904, 38574367.02018205,\n",
       "       38574362.50910457, 38574368.90254904, 38574366.9246068 ,\n",
       "       38574366.76433077, 38574367.02018205, 38574367.02044147,\n",
       "       38574374.99682705])"
      ]
     },
     "execution_count": 7,
     "metadata": {},
     "output_type": "execute_result"
    }
   ],
   "source": [
    "y_pred"
   ]
  },
  {
   "cell_type": "code",
   "execution_count": 8,
   "metadata": {},
   "outputs": [],
   "source": [
    "df6 = pd.read_csv('df6')"
   ]
  },
  {
   "cell_type": "code",
   "execution_count": 9,
   "metadata": {},
   "outputs": [
    {
     "data": {
      "text/plain": [
       "Index(['id', 'title', 'release_date', 'runtime', 'original_language', 'genres',\n",
       "       'production_countries', 'budget', 'vote_average', 'vote_count',\n",
       "       'popularity', 'revenue', 'imdb_id', 'directors', 'cast'],\n",
       "      dtype='object')"
      ]
     },
     "execution_count": 9,
     "metadata": {},
     "output_type": "execute_result"
    }
   ],
   "source": [
    "df6.columns"
   ]
  },
  {
   "cell_type": "code",
   "execution_count": 10,
   "metadata": {},
   "outputs": [],
   "source": [
    "df6.drop(['id','title','original_language','release_date','genres','production_countries','imdb_id','directors','cast'], axis=1, inplace=True)"
   ]
  },
  {
   "cell_type": "code",
   "execution_count": 11,
   "metadata": {},
   "outputs": [
    {
     "data": {
      "text/plain": [
       "(4039, 6)"
      ]
     },
     "execution_count": 11,
     "metadata": {},
     "output_type": "execute_result"
    }
   ],
   "source": [
    "df6.shape"
   ]
  },
  {
   "cell_type": "code",
   "execution_count": 12,
   "metadata": {},
   "outputs": [],
   "source": [
    "df6 = df6[(df6.budget>1000) & (df6.revenue>1000)]"
   ]
  },
  {
   "cell_type": "code",
   "execution_count": 13,
   "metadata": {},
   "outputs": [
    {
     "data": {
      "text/plain": [
       "(4021, 6)"
      ]
     },
     "execution_count": 13,
     "metadata": {},
     "output_type": "execute_result"
    }
   ],
   "source": [
    "df6.shape"
   ]
  },
  {
   "cell_type": "code",
   "execution_count": 14,
   "metadata": {},
   "outputs": [],
   "source": [
    "df6 = df6[(df6.revenue<1200000000)]"
   ]
  },
  {
   "cell_type": "code",
   "execution_count": 15,
   "metadata": {},
   "outputs": [
    {
     "data": {
      "text/plain": [
       "(4013, 6)"
      ]
     },
     "execution_count": 15,
     "metadata": {},
     "output_type": "execute_result"
    }
   ],
   "source": [
    "df6.shape"
   ]
  },
  {
   "cell_type": "code",
   "execution_count": 16,
   "metadata": {},
   "outputs": [
    {
     "data": {
      "text/html": [
       "<div>\n",
       "<style scoped>\n",
       "    .dataframe tbody tr th:only-of-type {\n",
       "        vertical-align: middle;\n",
       "    }\n",
       "\n",
       "    .dataframe tbody tr th {\n",
       "        vertical-align: top;\n",
       "    }\n",
       "\n",
       "    .dataframe thead th {\n",
       "        text-align: right;\n",
       "    }\n",
       "</style>\n",
       "<table border=\"1\" class=\"dataframe\">\n",
       "  <thead>\n",
       "    <tr style=\"text-align: right;\">\n",
       "      <th></th>\n",
       "      <th>runtime</th>\n",
       "      <th>budget</th>\n",
       "      <th>vote_average</th>\n",
       "      <th>vote_count</th>\n",
       "      <th>popularity</th>\n",
       "      <th>revenue</th>\n",
       "    </tr>\n",
       "  </thead>\n",
       "  <tbody>\n",
       "    <tr>\n",
       "      <th>runtime</th>\n",
       "      <td>1.000000</td>\n",
       "      <td>0.240033</td>\n",
       "      <td>0.390189</td>\n",
       "      <td>0.260255</td>\n",
       "      <td>0.199626</td>\n",
       "      <td>0.234380</td>\n",
       "    </tr>\n",
       "    <tr>\n",
       "      <th>budget</th>\n",
       "      <td>0.240033</td>\n",
       "      <td>1.000000</td>\n",
       "      <td>-0.012931</td>\n",
       "      <td>0.541581</td>\n",
       "      <td>0.451011</td>\n",
       "      <td>0.716754</td>\n",
       "    </tr>\n",
       "    <tr>\n",
       "      <th>vote_average</th>\n",
       "      <td>0.390189</td>\n",
       "      <td>-0.012931</td>\n",
       "      <td>1.000000</td>\n",
       "      <td>0.368117</td>\n",
       "      <td>0.292072</td>\n",
       "      <td>0.195973</td>\n",
       "    </tr>\n",
       "    <tr>\n",
       "      <th>vote_count</th>\n",
       "      <td>0.260255</td>\n",
       "      <td>0.541581</td>\n",
       "      <td>0.368117</td>\n",
       "      <td>1.000000</td>\n",
       "      <td>0.765559</td>\n",
       "      <td>0.757208</td>\n",
       "    </tr>\n",
       "    <tr>\n",
       "      <th>popularity</th>\n",
       "      <td>0.199626</td>\n",
       "      <td>0.451011</td>\n",
       "      <td>0.292072</td>\n",
       "      <td>0.765559</td>\n",
       "      <td>1.000000</td>\n",
       "      <td>0.623907</td>\n",
       "    </tr>\n",
       "    <tr>\n",
       "      <th>revenue</th>\n",
       "      <td>0.234380</td>\n",
       "      <td>0.716754</td>\n",
       "      <td>0.195973</td>\n",
       "      <td>0.757208</td>\n",
       "      <td>0.623907</td>\n",
       "      <td>1.000000</td>\n",
       "    </tr>\n",
       "  </tbody>\n",
       "</table>\n",
       "</div>"
      ],
      "text/plain": [
       "               runtime    budget  vote_average  vote_count  popularity  \\\n",
       "runtime       1.000000  0.240033      0.390189    0.260255    0.199626   \n",
       "budget        0.240033  1.000000     -0.012931    0.541581    0.451011   \n",
       "vote_average  0.390189 -0.012931      1.000000    0.368117    0.292072   \n",
       "vote_count    0.260255  0.541581      0.368117    1.000000    0.765559   \n",
       "popularity    0.199626  0.451011      0.292072    0.765559    1.000000   \n",
       "revenue       0.234380  0.716754      0.195973    0.757208    0.623907   \n",
       "\n",
       "               revenue  \n",
       "runtime       0.234380  \n",
       "budget        0.716754  \n",
       "vote_average  0.195973  \n",
       "vote_count    0.757208  \n",
       "popularity    0.623907  \n",
       "revenue       1.000000  "
      ]
     },
     "execution_count": 16,
     "metadata": {},
     "output_type": "execute_result"
    }
   ],
   "source": [
    "df6.corr()"
   ]
  },
  {
   "cell_type": "code",
   "execution_count": 17,
   "metadata": {},
   "outputs": [
    {
     "data": {
      "text/html": [
       "<div>\n",
       "<style scoped>\n",
       "    .dataframe tbody tr th:only-of-type {\n",
       "        vertical-align: middle;\n",
       "    }\n",
       "\n",
       "    .dataframe tbody tr th {\n",
       "        vertical-align: top;\n",
       "    }\n",
       "\n",
       "    .dataframe thead th {\n",
       "        text-align: right;\n",
       "    }\n",
       "</style>\n",
       "<table border=\"1\" class=\"dataframe\">\n",
       "  <thead>\n",
       "    <tr style=\"text-align: right;\">\n",
       "      <th></th>\n",
       "      <th>runtime</th>\n",
       "      <th>budget</th>\n",
       "      <th>vote_average</th>\n",
       "      <th>vote_count</th>\n",
       "      <th>popularity</th>\n",
       "      <th>revenue</th>\n",
       "    </tr>\n",
       "  </thead>\n",
       "  <tbody>\n",
       "    <tr>\n",
       "      <th>count</th>\n",
       "      <td>4013.000000</td>\n",
       "      <td>4.013000e+03</td>\n",
       "      <td>4013.000000</td>\n",
       "      <td>4013.000000</td>\n",
       "      <td>4013.000000</td>\n",
       "      <td>4.013000e+03</td>\n",
       "    </tr>\n",
       "    <tr>\n",
       "      <th>mean</th>\n",
       "      <td>109.191627</td>\n",
       "      <td>3.561974e+07</td>\n",
       "      <td>6.240294</td>\n",
       "      <td>796.355844</td>\n",
       "      <td>24.528162</td>\n",
       "      <td>9.836075e+07</td>\n",
       "    </tr>\n",
       "    <tr>\n",
       "      <th>std</th>\n",
       "      <td>20.363959</td>\n",
       "      <td>4.104907e+07</td>\n",
       "      <td>0.887971</td>\n",
       "      <td>1269.586420</td>\n",
       "      <td>32.850513</td>\n",
       "      <td>1.570341e+08</td>\n",
       "    </tr>\n",
       "    <tr>\n",
       "      <th>min</th>\n",
       "      <td>41.000000</td>\n",
       "      <td>1.100000e+03</td>\n",
       "      <td>1.900000</td>\n",
       "      <td>1.000000</td>\n",
       "      <td>0.001586</td>\n",
       "      <td>1.097000e+03</td>\n",
       "    </tr>\n",
       "    <tr>\n",
       "      <th>25%</th>\n",
       "      <td>95.000000</td>\n",
       "      <td>8.000000e+06</td>\n",
       "      <td>5.700000</td>\n",
       "      <td>97.000000</td>\n",
       "      <td>7.050951</td>\n",
       "      <td>1.001704e+07</td>\n",
       "    </tr>\n",
       "    <tr>\n",
       "      <th>50%</th>\n",
       "      <td>105.000000</td>\n",
       "      <td>2.100000e+07</td>\n",
       "      <td>6.300000</td>\n",
       "      <td>330.000000</td>\n",
       "      <td>16.318608</td>\n",
       "      <td>3.827548e+07</td>\n",
       "    </tr>\n",
       "    <tr>\n",
       "      <th>75%</th>\n",
       "      <td>119.000000</td>\n",
       "      <td>4.900000e+07</td>\n",
       "      <td>6.800000</td>\n",
       "      <td>903.000000</td>\n",
       "      <td>32.144440</td>\n",
       "      <td>1.161124e+08</td>\n",
       "    </tr>\n",
       "    <tr>\n",
       "      <th>max</th>\n",
       "      <td>338.000000</td>\n",
       "      <td>3.800000e+08</td>\n",
       "      <td>9.300000</td>\n",
       "      <td>13752.000000</td>\n",
       "      <td>875.581305</td>\n",
       "      <td>1.156731e+09</td>\n",
       "    </tr>\n",
       "  </tbody>\n",
       "</table>\n",
       "</div>"
      ],
      "text/plain": [
       "           runtime        budget  vote_average    vote_count   popularity  \\\n",
       "count  4013.000000  4.013000e+03   4013.000000   4013.000000  4013.000000   \n",
       "mean    109.191627  3.561974e+07      6.240294    796.355844    24.528162   \n",
       "std      20.363959  4.104907e+07      0.887971   1269.586420    32.850513   \n",
       "min      41.000000  1.100000e+03      1.900000      1.000000     0.001586   \n",
       "25%      95.000000  8.000000e+06      5.700000     97.000000     7.050951   \n",
       "50%     105.000000  2.100000e+07      6.300000    330.000000    16.318608   \n",
       "75%     119.000000  4.900000e+07      6.800000    903.000000    32.144440   \n",
       "max     338.000000  3.800000e+08      9.300000  13752.000000   875.581305   \n",
       "\n",
       "            revenue  \n",
       "count  4.013000e+03  \n",
       "mean   9.836075e+07  \n",
       "std    1.570341e+08  \n",
       "min    1.097000e+03  \n",
       "25%    1.001704e+07  \n",
       "50%    3.827548e+07  \n",
       "75%    1.161124e+08  \n",
       "max    1.156731e+09  "
      ]
     },
     "execution_count": 17,
     "metadata": {},
     "output_type": "execute_result"
    }
   ],
   "source": [
    "df6.describe()"
   ]
  },
  {
   "cell_type": "code",
   "execution_count": 18,
   "metadata": {},
   "outputs": [
    {
     "data": {
      "text/plain": [
       "<matplotlib.axes._subplots.AxesSubplot at 0x7fa9819d2b70>"
      ]
     },
     "execution_count": 18,
     "metadata": {},
     "output_type": "execute_result"
    },
    {
     "data": {
      "image/png": "[encoded data removed]",
      "text/plain": [
       "<Figure size 432x288 with 1 Axes>"
      ]
     },
     "metadata": {
      "needs_background": "light"
     },
     "output_type": "display_data"
    }
   ],
   "source": [
    "df6.vote_average.hist()"
   ]
  },
  {
   "cell_type": "code",
   "execution_count": 58,
   "metadata": {},
   "outputs": [
    {
     "data": {
      "text/html": [
       "<div>\n",
       "<style scoped>\n",
       "    .dataframe tbody tr th:only-of-type {\n",
       "        vertical-align: middle;\n",
       "    }\n",
       "\n",
       "    .dataframe tbody tr th {\n",
       "        vertical-align: top;\n",
       "    }\n",
       "\n",
       "    .dataframe thead th {\n",
       "        text-align: right;\n",
       "    }\n",
       "</style>\n",
       "<table border=\"1\" class=\"dataframe\">\n",
       "  <thead>\n",
       "    <tr style=\"text-align: right;\">\n",
       "      <th></th>\n",
       "      <th>runtime</th>\n",
       "      <th>budget</th>\n",
       "      <th>vote_average</th>\n",
       "      <th>vote_count</th>\n",
       "      <th>popularity</th>\n",
       "      <th>revenue</th>\n",
       "    </tr>\n",
       "  </thead>\n",
       "  <tbody>\n",
       "    <tr>\n",
       "      <th>1</th>\n",
       "      <td>169.0</td>\n",
       "      <td>300000000</td>\n",
       "      <td>6.9</td>\n",
       "      <td>4500</td>\n",
       "      <td>139.082615</td>\n",
       "      <td>961000000</td>\n",
       "    </tr>\n",
       "    <tr>\n",
       "      <th>2</th>\n",
       "      <td>148.0</td>\n",
       "      <td>245000000</td>\n",
       "      <td>6.3</td>\n",
       "      <td>4466</td>\n",
       "      <td>107.376788</td>\n",
       "      <td>880674609</td>\n",
       "    </tr>\n",
       "    <tr>\n",
       "      <th>3</th>\n",
       "      <td>165.0</td>\n",
       "      <td>250000000</td>\n",
       "      <td>7.6</td>\n",
       "      <td>9106</td>\n",
       "      <td>112.312950</td>\n",
       "      <td>1084939099</td>\n",
       "    </tr>\n",
       "    <tr>\n",
       "      <th>4</th>\n",
       "      <td>132.0</td>\n",
       "      <td>260000000</td>\n",
       "      <td>6.1</td>\n",
       "      <td>2124</td>\n",
       "      <td>43.926995</td>\n",
       "      <td>284139100</td>\n",
       "    </tr>\n",
       "    <tr>\n",
       "      <th>5</th>\n",
       "      <td>139.0</td>\n",
       "      <td>258000000</td>\n",
       "      <td>5.9</td>\n",
       "      <td>3576</td>\n",
       "      <td>115.699814</td>\n",
       "      <td>890871626</td>\n",
       "    </tr>\n",
       "  </tbody>\n",
       "</table>\n",
       "</div>"
      ],
      "text/plain": [
       "   runtime     budget  vote_average  vote_count  popularity     revenue\n",
       "1    169.0  300000000           6.9        4500  139.082615   961000000\n",
       "2    148.0  245000000           6.3        4466  107.376788   880674609\n",
       "3    165.0  250000000           7.6        9106  112.312950  1084939099\n",
       "4    132.0  260000000           6.1        2124   43.926995   284139100\n",
       "5    139.0  258000000           5.9        3576  115.699814   890871626"
      ]
     },
     "execution_count": 58,
     "metadata": {},
     "output_type": "execute_result"
    }
   ],
   "source": [
    "df6.head()"
   ]
  },
  {
   "cell_type": "code",
   "execution_count": null,
   "metadata": {},
   "outputs": [],
   "source": []
  },
  {
   "cell_type": "code",
   "execution_count": 83,
   "metadata": {},
   "outputs": [],
   "source": [
    "df10 = df6.copy()"
   ]
  },
  {
   "cell_type": "code",
   "execution_count": 65,
   "metadata": {},
   "outputs": [],
   "source": [
    "bins = (1, 5.5, 7, 10)\n",
    "group_names = ['Bad', 'Average', 'Excellent']\n",
    "df10['vote_bins'] = pd.cut(df10['vote_average'], bins = bins, labels = group_names)"
   ]
  },
  {
   "cell_type": "code",
   "execution_count": 66,
   "metadata": {},
   "outputs": [
    {
     "data": {
      "text/plain": [
       "Average      2486\n",
       "Bad           819\n",
       "Excellent     708\n",
       "Name: vote_bins, dtype: int64"
      ]
     },
     "execution_count": 66,
     "metadata": {},
     "output_type": "execute_result"
    }
   ],
   "source": [
    "df10.vote_bins.value_counts()"
   ]
  },
  {
   "cell_type": "code",
   "execution_count": 67,
   "metadata": {},
   "outputs": [],
   "source": [
    "df10.drop('vote_average', axis=1, inplace=True)"
   ]
  },
  {
   "cell_type": "code",
   "execution_count": 68,
   "metadata": {},
   "outputs": [],
   "source": [
    "y = df10.vote_bins\n",
    "X = df10.loc[:, df10.columns != 'vote_bins']\n",
    "X_train, X_test, y_train, y_test = train_test_split(X, y, test_size=0.2)"
   ]
  },
  {
   "cell_type": "code",
   "execution_count": 77,
   "metadata": {},
   "outputs": [],
   "source": [
    "svc = svm.SVC(gamma=0.0000001)\n",
    "svc.fit(X_train, y_train)\n",
    "y_pred = svc.predict(X_test)"
   ]
  },
  {
   "cell_type": "code",
   "execution_count": 78,
   "metadata": {},
   "outputs": [
    {
     "name": "stdout",
     "output_type": "stream",
     "text": [
      "[[487   1   0]\n",
      " [166   0   0]\n",
      " [149   0   0]]\n",
      "60.647571606475715\n"
     ]
    }
   ],
   "source": [
    "svc_conf_matrix = confusion_matrix(y_test, y_pred)\n",
    "svc_acc_score = accuracy_score(y_test, y_pred)\n",
    "print(svc_conf_matrix)\n",
    "print(svc_acc_score*100)"
   ]
  },
  {
   "cell_type": "code",
   "execution_count": 79,
   "metadata": {},
   "outputs": [
    {
     "data": {
      "text/plain": [
       "array(['Average', 'Average', 'Average', 'Average', 'Average', 'Average',\n",
       "       'Average', 'Average', 'Average', 'Average', 'Average', 'Average',\n",
       "       'Average', 'Average', 'Average', 'Average', 'Average', 'Average',\n",
       "       'Average', 'Average', 'Average', 'Average', 'Average', 'Average',\n",
       "       'Average', 'Average', 'Average', 'Average', 'Average', 'Average',\n",
       "       'Average', 'Average', 'Average', 'Average', 'Average', 'Average',\n",
       "       'Average', 'Average', 'Average', 'Average', 'Average', 'Average',\n",
       "       'Average', 'Average', 'Average', 'Average', 'Average', 'Average',\n",
       "       'Average', 'Average', 'Average', 'Average', 'Average', 'Average',\n",
       "       'Average', 'Average', 'Average', 'Average', 'Average', 'Average',\n",
       "       'Bad', 'Average', 'Average', 'Average', 'Average', 'Average',\n",
       "       'Average', 'Average', 'Average', 'Average', 'Average', 'Average',\n",
       "       'Average', 'Average', 'Average', 'Average', 'Average', 'Average',\n",
       "       'Average', 'Average', 'Average', 'Average', 'Average', 'Average',\n",
       "       'Average', 'Average', 'Average', 'Average', 'Average', 'Average',\n",
       "       'Average', 'Average', 'Average', 'Average', 'Average', 'Average',\n",
       "       'Average', 'Average', 'Average', 'Average', 'Average', 'Average',\n",
       "       'Average', 'Average', 'Average', 'Average', 'Average', 'Average',\n",
       "       'Average', 'Average', 'Average', 'Average', 'Average', 'Average',\n",
       "       'Average', 'Average', 'Average', 'Average', 'Average', 'Average',\n",
       "       'Average', 'Average', 'Average', 'Average', 'Average', 'Average',\n",
       "       'Average', 'Average', 'Average', 'Average', 'Average', 'Average',\n",
       "       'Average', 'Average', 'Average', 'Average', 'Average', 'Average',\n",
       "       'Average', 'Average', 'Average', 'Average', 'Average', 'Average',\n",
       "       'Average', 'Average', 'Average', 'Average', 'Average', 'Average',\n",
       "       'Average', 'Average', 'Average', 'Average', 'Average', 'Average',\n",
       "       'Average', 'Average', 'Average', 'Average', 'Average', 'Average',\n",
       "       'Average', 'Average', 'Average', 'Average', 'Average', 'Average',\n",
       "       'Average', 'Average', 'Average', 'Average', 'Average', 'Average',\n",
       "       'Average', 'Average', 'Average', 'Average', 'Average', 'Average',\n",
       "       'Average', 'Average', 'Average', 'Average', 'Average', 'Average',\n",
       "       'Average', 'Average', 'Average', 'Average', 'Average', 'Average',\n",
       "       'Average', 'Average', 'Average', 'Average', 'Average', 'Average',\n",
       "       'Average', 'Average', 'Average', 'Average', 'Average', 'Average',\n",
       "       'Average', 'Average', 'Average', 'Average', 'Average', 'Average',\n",
       "       'Average', 'Average', 'Average', 'Average', 'Average', 'Average',\n",
       "       'Average', 'Average', 'Average', 'Average', 'Average', 'Average',\n",
       "       'Average', 'Average', 'Average', 'Average', 'Average', 'Average',\n",
       "       'Average', 'Average', 'Average', 'Average', 'Average', 'Average',\n",
       "       'Average', 'Average', 'Average', 'Average', 'Average', 'Average',\n",
       "       'Average', 'Average', 'Average', 'Average', 'Average', 'Average',\n",
       "       'Average', 'Average', 'Average', 'Average', 'Average', 'Average',\n",
       "       'Average', 'Average', 'Average', 'Average', 'Average', 'Average',\n",
       "       'Average', 'Average', 'Average', 'Average', 'Average', 'Average',\n",
       "       'Average', 'Average', 'Average', 'Average', 'Average', 'Average',\n",
       "       'Average', 'Average', 'Average', 'Average', 'Average', 'Average',\n",
       "       'Average', 'Average', 'Average', 'Average', 'Average', 'Average',\n",
       "       'Average', 'Average', 'Average', 'Average', 'Average', 'Average',\n",
       "       'Average', 'Average', 'Average', 'Average', 'Average', 'Average',\n",
       "       'Average', 'Average', 'Average', 'Average', 'Average', 'Average',\n",
       "       'Average', 'Average', 'Average', 'Average', 'Average', 'Average',\n",
       "       'Average', 'Average', 'Average', 'Average', 'Average', 'Average',\n",
       "       'Average', 'Average', 'Average', 'Average', 'Average', 'Average',\n",
       "       'Average', 'Average', 'Average', 'Average', 'Average', 'Average',\n",
       "       'Average', 'Average', 'Average', 'Average', 'Average', 'Average',\n",
       "       'Average', 'Average', 'Average', 'Average', 'Average', 'Average',\n",
       "       'Average', 'Average', 'Average', 'Average', 'Average', 'Average',\n",
       "       'Average', 'Average', 'Average', 'Average', 'Average', 'Average',\n",
       "       'Average', 'Average', 'Average', 'Average', 'Average', 'Average',\n",
       "       'Average', 'Average', 'Average', 'Average', 'Average', 'Average',\n",
       "       'Average', 'Average', 'Average', 'Average', 'Average', 'Average',\n",
       "       'Average', 'Average', 'Average', 'Average', 'Average', 'Average',\n",
       "       'Average', 'Average', 'Average', 'Average', 'Average', 'Average',\n",
       "       'Average', 'Average', 'Average', 'Average', 'Average', 'Average',\n",
       "       'Average', 'Average', 'Average', 'Average', 'Average', 'Average',\n",
       "       'Average', 'Average', 'Average', 'Average', 'Average', 'Average',\n",
       "       'Average', 'Average', 'Average', 'Average', 'Average', 'Average',\n",
       "       'Average', 'Average', 'Average', 'Average', 'Average', 'Average',\n",
       "       'Average', 'Average', 'Average', 'Average', 'Average', 'Average',\n",
       "       'Average', 'Average', 'Average', 'Average', 'Average', 'Average',\n",
       "       'Average', 'Average', 'Average', 'Average', 'Average', 'Average',\n",
       "       'Average', 'Average', 'Average', 'Average', 'Average', 'Average',\n",
       "       'Average', 'Average', 'Average', 'Average', 'Average', 'Average',\n",
       "       'Average', 'Average', 'Average', 'Average', 'Average', 'Average',\n",
       "       'Average', 'Average', 'Average', 'Average', 'Average', 'Average',\n",
       "       'Average', 'Average', 'Average', 'Average', 'Average', 'Average',\n",
       "       'Average', 'Average', 'Average', 'Average', 'Average', 'Average',\n",
       "       'Average', 'Average', 'Average', 'Average', 'Average', 'Average',\n",
       "       'Average', 'Average', 'Average', 'Average', 'Average', 'Average',\n",
       "       'Average', 'Average', 'Average', 'Average', 'Average', 'Average',\n",
       "       'Average', 'Average', 'Average', 'Average', 'Average', 'Average',\n",
       "       'Average', 'Average', 'Average', 'Average', 'Average', 'Average',\n",
       "       'Average', 'Average', 'Average', 'Average', 'Average', 'Average',\n",
       "       'Average', 'Average', 'Average', 'Average', 'Average', 'Average',\n",
       "       'Average', 'Average', 'Average', 'Average', 'Average', 'Average',\n",
       "       'Average', 'Average', 'Average', 'Average', 'Average', 'Average',\n",
       "       'Average', 'Average', 'Average', 'Average', 'Average', 'Average',\n",
       "       'Average', 'Average', 'Average', 'Average', 'Average', 'Average',\n",
       "       'Average', 'Average', 'Average', 'Average', 'Average', 'Average',\n",
       "       'Average', 'Average', 'Average', 'Average', 'Average', 'Average',\n",
       "       'Average', 'Average', 'Average', 'Average', 'Average', 'Average',\n",
       "       'Average', 'Average', 'Average', 'Average', 'Average', 'Average',\n",
       "       'Average', 'Average', 'Average', 'Average', 'Average', 'Average',\n",
       "       'Average', 'Average', 'Average', 'Average', 'Average', 'Average',\n",
       "       'Average', 'Average', 'Average', 'Average', 'Average', 'Average',\n",
       "       'Average', 'Average', 'Average', 'Average', 'Average', 'Average',\n",
       "       'Average', 'Average', 'Average', 'Average', 'Average', 'Average',\n",
       "       'Average', 'Average', 'Average', 'Average', 'Average', 'Average',\n",
       "       'Average', 'Average', 'Average', 'Average', 'Average', 'Average',\n",
       "       'Average', 'Average', 'Average', 'Average', 'Average', 'Average',\n",
       "       'Average', 'Average', 'Average', 'Average', 'Average', 'Average',\n",
       "       'Average', 'Average', 'Average', 'Average', 'Average', 'Average',\n",
       "       'Average', 'Average', 'Average', 'Average', 'Average', 'Average',\n",
       "       'Average', 'Average', 'Average', 'Average', 'Average', 'Average',\n",
       "       'Average', 'Average', 'Average', 'Average', 'Average', 'Average',\n",
       "       'Average', 'Average', 'Average', 'Average', 'Average', 'Average',\n",
       "       'Average', 'Average', 'Average', 'Average', 'Average', 'Average',\n",
       "       'Average', 'Average', 'Average', 'Average', 'Average', 'Average',\n",
       "       'Average', 'Average', 'Average', 'Average', 'Average', 'Average',\n",
       "       'Average', 'Average', 'Average', 'Average', 'Average', 'Average',\n",
       "       'Average', 'Average', 'Average', 'Average', 'Average', 'Average',\n",
       "       'Average', 'Average', 'Average', 'Average', 'Average', 'Average',\n",
       "       'Average', 'Average', 'Average', 'Average', 'Average', 'Average',\n",
       "       'Average', 'Average', 'Average', 'Average', 'Average', 'Average',\n",
       "       'Average', 'Average', 'Average', 'Average', 'Average', 'Average',\n",
       "       'Average', 'Average', 'Average', 'Average', 'Average', 'Average',\n",
       "       'Average', 'Average', 'Average', 'Average', 'Average', 'Average',\n",
       "       'Average', 'Average', 'Average', 'Average', 'Average', 'Average',\n",
       "       'Average', 'Average', 'Average', 'Average', 'Average', 'Average',\n",
       "       'Average', 'Average', 'Average', 'Average', 'Average', 'Average',\n",
       "       'Average', 'Average', 'Average', 'Average', 'Average', 'Average',\n",
       "       'Average', 'Average', 'Average', 'Average', 'Average', 'Average',\n",
       "       'Average', 'Average', 'Average', 'Average', 'Average', 'Average',\n",
       "       'Average', 'Average', 'Average', 'Average', 'Average', 'Average',\n",
       "       'Average', 'Average', 'Average', 'Average', 'Average', 'Average',\n",
       "       'Average', 'Average', 'Average', 'Average', 'Average', 'Average',\n",
       "       'Average', 'Average', 'Average', 'Average', 'Average', 'Average',\n",
       "       'Average', 'Average', 'Average', 'Average', 'Average', 'Average',\n",
       "       'Average', 'Average', 'Average', 'Average', 'Average', 'Average',\n",
       "       'Average', 'Average', 'Average', 'Average', 'Average', 'Average',\n",
       "       'Average', 'Average', 'Average', 'Average', 'Average', 'Average',\n",
       "       'Average', 'Average', 'Average', 'Average', 'Average', 'Average',\n",
       "       'Average', 'Average', 'Average', 'Average', 'Average', 'Average',\n",
       "       'Average', 'Average', 'Average', 'Average', 'Average'],\n",
       "      dtype=object)"
      ]
     },
     "execution_count": 79,
     "metadata": {},
     "output_type": "execute_result"
    }
   ],
   "source": [
    "y_pred"
   ]
  },
  {
   "cell_type": "code",
   "execution_count": null,
   "metadata": {},
   "outputs": [],
   "source": []
  },
  {
   "cell_type": "code",
   "execution_count": 84,
   "metadata": {},
   "outputs": [],
   "source": [
    "df11 = df10.copy()"
   ]
  },
  {
   "cell_type": "code",
   "execution_count": 85,
   "metadata": {},
   "outputs": [],
   "source": [
    "df11 = df11[df11.revenue<100000000]"
   ]
  },
  {
   "cell_type": "code",
   "execution_count": 86,
   "metadata": {},
   "outputs": [],
   "source": [
    "bins = (1, 5.5, 7, 10)\n",
    "group_names = ['Bad', 'Average', 'Excellent']\n",
    "df11['vote_bins'] = pd.cut(df11['vote_average'], bins = bins, labels = group_names)"
   ]
  },
  {
   "cell_type": "code",
   "execution_count": 88,
   "metadata": {},
   "outputs": [
    {
     "data": {
      "text/plain": [
       "Average      1728\n",
       "Bad           691\n",
       "Excellent     447\n",
       "Name: vote_bins, dtype: int64"
      ]
     },
     "execution_count": 88,
     "metadata": {},
     "output_type": "execute_result"
    }
   ],
   "source": [
    "df11.vote_bins.value_counts()"
   ]
  },
  {
   "cell_type": "code",
   "execution_count": 89,
   "metadata": {},
   "outputs": [],
   "source": [
    "df11.drop('vote_average', axis=1, inplace=True)"
   ]
  },
  {
   "cell_type": "code",
   "execution_count": 90,
   "metadata": {},
   "outputs": [],
   "source": [
    "y = df11.vote_bins\n",
    "X = df11.loc[:, df11.columns != 'vote_bins']\n",
    "X_train, X_test, y_train, y_test = train_test_split(X, y, test_size=0.2)"
   ]
  },
  {
   "cell_type": "code",
   "execution_count": null,
   "metadata": {},
   "outputs": [],
   "source": [
    "svc = svm.SVC(gamma=0.0000000000001, C=100000)\n",
    "svc.fit(X_train, y_train)\n",
    "y_pred = svc.predict(X_test)"
   ]
  },
  {
   "cell_type": "code",
   "execution_count": 134,
   "metadata": {},
   "outputs": [
    {
     "name": "stdout",
     "output_type": "stream",
     "text": [
      "[[239  55  49]\n",
      " [101  26  10]\n",
      " [ 69  11  14]]\n",
      "48.606271777003485\n"
     ]
    }
   ],
   "source": [
    "svc_conf_matrix = confusion_matrix(y_test, y_pred)\n",
    "svc_acc_score = accuracy_score(y_test, y_pred)\n",
    "print(svc_conf_matrix)\n",
    "print(svc_acc_score*100)"
   ]
  },
  {
   "cell_type": "code",
   "execution_count": null,
   "metadata": {},
   "outputs": [],
   "source": []
  },
  {
   "cell_type": "code",
   "execution_count": null,
   "metadata": {},
   "outputs": [],
   "source": []
  },
  {
   "cell_type": "code",
   "execution_count": null,
   "metadata": {},
   "outputs": [],
   "source": []
  },
  {
   "cell_type": "code",
   "execution_count": null,
   "metadata": {},
   "outputs": [],
   "source": []
  },
  {
   "cell_type": "code",
   "execution_count": null,
   "metadata": {},
   "outputs": [],
   "source": []
  },
  {
   "cell_type": "code",
   "execution_count": 42,
   "metadata": {},
   "outputs": [
    {
     "data": {
      "text/html": [
       "<div>\n",
       "<style scoped>\n",
       "    .dataframe tbody tr th:only-of-type {\n",
       "        vertical-align: middle;\n",
       "    }\n",
       "\n",
       "    .dataframe tbody tr th {\n",
       "        vertical-align: top;\n",
       "    }\n",
       "\n",
       "    .dataframe thead th {\n",
       "        text-align: right;\n",
       "    }\n",
       "</style>\n",
       "<table border=\"1\" class=\"dataframe\">\n",
       "  <thead>\n",
       "    <tr style=\"text-align: right;\">\n",
       "      <th></th>\n",
       "      <th>runtime</th>\n",
       "      <th>budget</th>\n",
       "      <th>vote_average</th>\n",
       "      <th>vote_count</th>\n",
       "      <th>popularity</th>\n",
       "    </tr>\n",
       "  </thead>\n",
       "  <tbody>\n",
       "    <tr>\n",
       "      <th>1</th>\n",
       "      <td>169.0</td>\n",
       "      <td>300000000</td>\n",
       "      <td>6.9</td>\n",
       "      <td>4500</td>\n",
       "      <td>139.082615</td>\n",
       "    </tr>\n",
       "    <tr>\n",
       "      <th>2</th>\n",
       "      <td>148.0</td>\n",
       "      <td>245000000</td>\n",
       "      <td>6.3</td>\n",
       "      <td>4466</td>\n",
       "      <td>107.376788</td>\n",
       "    </tr>\n",
       "    <tr>\n",
       "      <th>3</th>\n",
       "      <td>165.0</td>\n",
       "      <td>250000000</td>\n",
       "      <td>7.6</td>\n",
       "      <td>9106</td>\n",
       "      <td>112.312950</td>\n",
       "    </tr>\n",
       "    <tr>\n",
       "      <th>4</th>\n",
       "      <td>132.0</td>\n",
       "      <td>260000000</td>\n",
       "      <td>6.1</td>\n",
       "      <td>2124</td>\n",
       "      <td>43.926995</td>\n",
       "    </tr>\n",
       "    <tr>\n",
       "      <th>5</th>\n",
       "      <td>139.0</td>\n",
       "      <td>258000000</td>\n",
       "      <td>5.9</td>\n",
       "      <td>3576</td>\n",
       "      <td>115.699814</td>\n",
       "    </tr>\n",
       "  </tbody>\n",
       "</table>\n",
       "</div>"
      ],
      "text/plain": [
       "   runtime     budget  vote_average  vote_count  popularity\n",
       "1    169.0  300000000           6.9        4500  139.082615\n",
       "2    148.0  245000000           6.3        4466  107.376788\n",
       "3    165.0  250000000           7.6        9106  112.312950\n",
       "4    132.0  260000000           6.1        2124   43.926995\n",
       "5    139.0  258000000           5.9        3576  115.699814"
      ]
     },
     "metadata": {},
     "output_type": "display_data"
    },
    {
     "data": {
      "text/plain": [
       "1     961000000\n",
       "2     880674609\n",
       "3    1084939099\n",
       "4     284139100\n",
       "5     890871626\n",
       "Name: revenue, dtype: int64"
      ]
     },
     "metadata": {},
     "output_type": "display_data"
    },
    {
     "data": {
      "text/plain": [
       "(None, None)"
      ]
     },
     "execution_count": 42,
     "metadata": {},
     "output_type": "execute_result"
    }
   ],
   "source": [
    "X = df6.loc[:, df6.columns != 'revenue']\n",
    "y = df6['revenue']\n",
    "display(X.head()), display(y.head())"
   ]
  },
  {
   "cell_type": "code",
   "execution_count": 43,
   "metadata": {},
   "outputs": [
    {
     "data": {
      "text/plain": [
       "(3210, 803, 3210, 803)"
      ]
     },
     "execution_count": 43,
     "metadata": {},
     "output_type": "execute_result"
    }
   ],
   "source": [
    "X_train, X_test, y_train, y_test = train_test_split(X, y, test_size=0.2, random_state=42)\n",
    "len(X_train), len(X_test), len(y_train), len(y_test)"
   ]
  },
  {
   "cell_type": "code",
   "execution_count": 44,
   "metadata": {},
   "outputs": [
    {
     "data": {
      "text/plain": [
       "(1097, 1156730962)"
      ]
     },
     "execution_count": 44,
     "metadata": {},
     "output_type": "execute_result"
    }
   ],
   "source": [
    "y.min(), y.max()"
   ]
  },
  {
   "cell_type": "code",
   "execution_count": 45,
   "metadata": {},
   "outputs": [
    {
     "data": {
      "text/plain": [
       "SVR(C=1.0, cache_size=200, coef0=0.0, degree=3, epsilon=0.2, gamma='scale',\n",
       "  kernel='rbf', max_iter=-1, shrinking=True, tol=0.001, verbose=False)"
      ]
     },
     "execution_count": 45,
     "metadata": {},
     "output_type": "execute_result"
    }
   ],
   "source": [
    "clf = SVR(gamma='scale', C=1.0, epsilon=0.2)\n",
    "clf.fit(X_train, y_train) "
   ]
  },
  {
   "cell_type": "code",
   "execution_count": 46,
   "metadata": {},
   "outputs": [],
   "source": [
    "y_pred = clf.predict(X_test)"
   ]
  },
  {
   "cell_type": "code",
   "execution_count": 47,
   "metadata": {},
   "outputs": [
    {
     "data": {
      "text/plain": [
       "(803,)"
      ]
     },
     "execution_count": 47,
     "metadata": {},
     "output_type": "execute_result"
    }
   ],
   "source": [
    "y_test.shape"
   ]
  },
  {
   "cell_type": "code",
   "execution_count": 48,
   "metadata": {},
   "outputs": [
    {
     "data": {
      "text/plain": [
       "(803,)"
      ]
     },
     "execution_count": 48,
     "metadata": {},
     "output_type": "execute_result"
    }
   ],
   "source": [
    "y_pred.shape"
   ]
  },
  {
   "cell_type": "code",
   "execution_count": 49,
   "metadata": {},
   "outputs": [
    {
     "ename": "ValueError",
     "evalue": "Expected 2D array, got 1D array instead:\narray=[1.22996680e+07 9.51462830e+07 1.72923810e+07 1.96297600e+07\n 1.86495200e+06 1.59212469e+08 2.95417900e+07 4.61983149e+08\n 1.14660880e+07 1.15922175e+08 1.92812350e+07 5.39097510e+07\n 4.57100590e+07 6.69276000e+05 8.19939000e+05 1.01624843e+08\n 4.74968763e+08 5.67559900e+06 5.02478200e+06 1.11378010e+07\n 7.88748430e+07 1.74720000e+04 1.96397415e+08 8.10824700e+06\n 2.20000000e+07 1.17758500e+08 1.26546825e+08 2.29074524e+08\n 3.01119500e+06 2.41547200e+06 7.66698060e+07 4.03326800e+06\n 9.85341000e+05 9.75520500e+07 1.44000000e+07 3.50576960e+07\n 2.84914200e+06 1.23146510e+07 8.15250000e+04 4.03170142e+08\n 2.15877000e+07 2.86102000e+06 2.35483004e+08 1.19452000e+05\n 1.73829820e+07 4.00062763e+08 9.36170090e+07 7.80852400e+06\n 7.25000000e+07 1.09449237e+08 5.77835300e+06 5.66530000e+04\n 1.18666000e+05 8.90000000e+06 1.04876233e+08 1.23426320e+07\n 6.86967700e+07 2.54829310e+07 4.63004500e+06 5.20000000e+08\n 6.95229000e+05 1.35560026e+08 1.91919700e+06 3.54023200e+07\n 1.83345589e+08 4.18693100e+06 4.41758000e+06 4.71173600e+06\n 1.32140300e+07 1.53083102e+08 3.16729070e+07 6.40524500e+06\n 1.02825796e+08 1.89833357e+08 5.35874040e+07 9.75720000e+07\n 1.22233971e+08 3.06417700e+07 8.57611174e+08 1.13019290e+08\n 2.88189950e+07 3.68780809e+08 1.55446362e+08 3.25756637e+08\n 1.04571380e+09 3.09256900e+07 7.67474410e+07 1.38351300e+07\n 3.22115200e+06 5.24258550e+07 3.91081192e+08 1.04297070e+07\n 1.24272124e+08 1.60886100e+07 7.20000000e+06 7.45976430e+07\n 4.91112020e+07 4.41966840e+07 6.54643240e+07 4.18488000e+05\n 5.51811290e+07 5.28500000e+04 2.45676146e+08 9.37000000e+07\n 5.18011870e+07 1.29956730e+07 6.26467630e+07 1.23724100e+07\n 1.45678830e+07 1.18880016e+08 1.49217355e+08 3.03120000e+04\n 1.81674817e+08 2.43843127e+08 3.25561190e+07 4.36568220e+07\n 9.37725220e+07 1.17719158e+08 3.85680446e+08 3.84136060e+07\n 4.34931230e+07 5.21098800e+06 1.59375308e+08 3.50071800e+07\n 1.03735000e+05 1.52126100e+06 1.40470746e+08 5.93790000e+04\n 5.65061200e+07 1.77200000e+08 9.08155580e+07 2.18613188e+08\n 7.05717432e+08 1.30000000e+07 1.24827750e+07 5.95202980e+07\n 5.87160300e+06 3.34615000e+08 3.20170008e+08 3.63513500e+07\n 1.36267476e+08 1.17185950e+07 1.24881062e+08 4.98000000e+07\n 1.13857533e+08 1.77243185e+08 8.89291110e+07 3.39658430e+07\n 4.12376480e+07 2.29422210e+07 1.42044638e+08 3.71700570e+07\n 3.16996000e+05 1.76262340e+07 1.02272000e+06 6.04461800e+06\n 4.77200000e+08 1.91799690e+07 6.55350670e+07 1.47700200e+06\n 2.06172544e+08 1.73013509e+08 9.70816000e+05 3.35154643e+08\n 9.50160000e+04 1.36789130e+07 1.12483764e+08 7.64327270e+07\n 7.23000000e+06 1.98466200e+06 3.25771424e+08 2.88347692e+08\n 4.89029530e+07 9.53114340e+07 2.74925095e+08 2.93329073e+08\n 2.74470394e+08 2.50000000e+06 1.31962450e+07 3.51779700e+06\n 9.62749200e+06 7.52215857e+08 2.01634991e+08 6.02899120e+07\n 2.86214286e+08 2.00804534e+08 2.04594016e+08 4.31015940e+07\n 1.01393569e+08 3.91711300e+07 4.64880000e+04 1.75372502e+08\n 6.58847030e+07 1.00000000e+07 3.58991681e+08 7.50780000e+04\n 3.44093900e+06 2.45084600e+06 2.03800000e+04 7.01818900e+06\n 1.87361754e+08 1.44216468e+08 6.07000000e+07 1.31000000e+07\n 1.63743280e+07 1.91840150e+07 2.13783610e+07 6.67342200e+06\n 1.32180323e+08 1.36817650e+07 4.49658300e+06 3.96731620e+07\n 5.43513985e+08 5.00075460e+07 6.38334490e+07 1.03374770e+07\n 1.05316267e+08 5.21660000e+04 1.05441430e+07 9.11964190e+07\n 3.14432665e+08 2.35926552e+08 3.53624124e+08 2.95064640e+07\n 6.08961470e+07 4.43766250e+07 3.74400000e+04 2.06273720e+07\n 1.74463257e+08 3.03025485e+08 1.30608430e+07 8.77540440e+07\n 4.48621870e+07 6.85723780e+07 4.23404000e+06 1.89484250e+07\n 8.05737740e+07 4.00112100e+06 3.19127930e+07 9.35255860e+07\n 9.60476330e+07 3.52114312e+08 9.28631400e+06 4.88149090e+07\n 3.34728500e+07 4.17970660e+07 2.21683590e+07 1.53695730e+07\n 1.00000000e+04 7.77473000e+06 1.52159461e+08 8.00000000e+06\n 4.38623600e+06 4.83307570e+07 1.60000000e+07 2.94000000e+07\n 3.27216350e+07 4.97971480e+07 4.33677183e+08 2.21656080e+07\n 5.24400510e+07 1.04324083e+08 1.78043761e+08 5.51123560e+07\n 4.49326618e+08 2.72742922e+08 1.40767956e+08 2.45360480e+08\n 6.86732280e+07 1.14663461e+08 2.24339150e+07 6.29416100e+06\n 2.00342000e+06 2.22000000e+07 2.95238201e+08 1.24914842e+08\n 1.30000000e+07 1.03207500e+06 1.11220900e+07 7.88870300e+06\n 5.93894330e+07 5.21749800e+06 1.51021270e+07 1.53997819e+08\n 7.82582000e+06 5.51575390e+07 5.70961900e+07 1.47080413e+08\n 2.28108900e+06 1.51714750e+07 3.75832800e+06 3.41631208e+08\n 1.35680000e+08 1.98033800e+06 3.45304300e+06 2.58022233e+08\n 1.14660784e+08 9.00000000e+06 3.96600000e+08 6.60000000e+06\n 2.58997970e+07 9.29131710e+07 1.17000000e+08 8.09164920e+07\n 5.07523370e+07 4.77746500e+06 2.58420000e+07 6.37820780e+07\n 1.05197635e+08 3.71876278e+08 9.51494350e+07 1.54471540e+07\n 7.69653595e+08 1.15608060e+07 8.50000000e+08 2.39254920e+07\n 1.02549111e+09 2.10885680e+07 2.95468000e+05 1.15772733e+08\n 1.11308890e+07 1.49673788e+08 1.27825080e+07 2.49027230e+07\n 2.15000000e+08 9.26287400e+08 2.96400000e+03 3.60000000e+07\n 2.89997000e+06 3.04260960e+07 8.40258160e+07 4.27000000e+06\n 4.49072600e+07 5.72809000e+05 7.09827462e+08 1.25494850e+07\n 4.07602906e+08 1.22195920e+08 1.22444772e+08 4.29310410e+07\n 8.50000000e+06 8.69304110e+07 2.18172980e+07 1.22915111e+08\n 1.92330738e+08 3.15560610e+07 7.30524280e+07 1.87500000e+08\n 7.00000000e+07 6.60940780e+08 1.81950000e+04 7.11865020e+07\n 1.33960541e+08 3.03180100e+06 5.38545880e+07 5.46060000e+04\n 1.21147947e+08 1.17195061e+08 1.56085450e+07 2.99965036e+08\n 3.73175580e+07 1.81466833e+08 3.75662300e+07 5.00231000e+06\n 1.21214377e+08 9.31072890e+07 3.20000000e+07 1.28388320e+08\n 1.10879513e+08 2.23387299e+08 1.09700000e+03 7.71121760e+07\n 1.03722910e+07 5.22939820e+07 6.67071200e+06 3.51348200e+07\n 8.00354020e+07 1.21756000e+05 7.48806957e+08 1.60602194e+08\n 2.18003020e+07 1.80622424e+08 4.11707840e+07 1.25327770e+07\n 4.34900570e+07 3.09492681e+08 3.63487840e+07 1.48412065e+08\n 8.52206000e+05 1.40000000e+08 5.39772500e+07 7.42082670e+07\n 3.73552094e+08 8.66585580e+07 4.00000000e+06 2.93671430e+07\n 1.59291809e+08 1.69308840e+07 7.18683270e+07 9.76475550e+08\n 6.62845518e+08 1.22919055e+08 1.14178613e+08 7.10698840e+07\n 5.68250000e+04 9.99657530e+07 1.50081610e+07 2.38940000e+07\n 3.00500280e+07 4.16274310e+07 5.94682750e+07 2.55629240e+07\n 1.15760870e+07 8.63623720e+07 1.52925093e+08 8.33043300e+07\n 7.49523050e+07 4.21051110e+07 5.60704330e+07 1.02146470e+07\n 3.62744280e+08 8.47423452e+08 1.81973980e+07 1.97776470e+07\n 7.39486030e+07 5.51847210e+07 2.31568300e+06 9.70091500e+07\n 6.83694340e+07 1.15267375e+08 1.60388063e+08 1.15505027e+08\n 3.33574760e+07 2.81611600e+06 2.42786137e+08 1.40000000e+07\n 5.99019130e+07 7.76282650e+07 3.40779200e+07 4.47039950e+07\n 1.86536150e+07 2.00276000e+08 1.65194600e+07 6.90556950e+07\n 1.97011640e+07 1.25586134e+08 1.27906624e+08 1.38000000e+07\n 8.43000000e+07 2.32640700e+06 3.02469017e+08 1.44600000e+07\n 1.12374700e+09 5.42643420e+07 4.00000000e+06 4.95540020e+07\n 2.27308420e+07 5.08771450e+07 8.67589120e+07 1.37945000e+05\n 1.50000000e+07 2.29147509e+08 9.81265650e+07 2.47694660e+07\n 1.49044513e+08 3.58372926e+08 1.21969216e+08 5.35964500e+06\n 1.87674000e+05 2.22104681e+08 4.29196500e+06 1.91502426e+08\n 1.24305181e+08 9.13535010e+07 6.94713380e+08 1.48730000e+04\n 1.98685114e+08 5.62984740e+07 3.67275019e+08 4.69281400e+06\n 9.86257750e+07 1.18578300e+06 4.14000000e+07 2.61542110e+07\n 6.80401600e+06 2.62000000e+06 1.05415230e+07 1.25537191e+08\n 6.28820900e+07 4.20000000e+07 2.07194510e+07 4.70889900e+07\n 1.20550000e+04 2.04092000e+06 1.74365090e+07 4.55007970e+07\n 5.59690000e+07 1.68726710e+07 1.00138851e+08 1.54749918e+08\n 3.56929200e+07 1.16019547e+08 3.12894100e+06 8.35578720e+07\n 1.62944923e+08 3.62302190e+07 1.33718711e+08 6.10872000e+06\n 1.54271920e+07 1.70362582e+08 6.34648610e+07 1.20000000e+07\n 3.05360130e+07 1.07217396e+08 4.57696359e+08 4.15967800e+06\n 4.85736700e+06 3.76141306e+08 9.09445100e+06 1.66626200e+06\n 1.17724610e+07 1.26216940e+08 1.88126000e+05 3.05232260e+07\n 3.05070000e+05 7.46085700e+07 6.40885520e+07 2.40159255e+08\n 1.00455844e+09 1.50962475e+08 1.40807547e+08 4.80279700e+07\n 2.12256100e+06 8.09362320e+07 1.09676311e+08 1.56556650e+07\n 2.26071200e+06 2.76454910e+07 8.00000000e+06 3.16360478e+08\n 2.45527149e+08 7.80000000e+06 3.89925971e+08 1.52812860e+07\n 1.49705852e+08 2.94804195e+08 1.87479518e+08 2.00000000e+06\n 2.20000000e+06 9.23746740e+07 8.46060300e+07 1.36200750e+07\n 2.50649836e+08 1.09140510e+09 1.61238510e+07 5.44272402e+08\n 9.40000000e+07 1.66719200e+06 1.20173690e+07 2.95493000e+05\n 3.00000000e+07 8.10916000e+06 1.17831631e+08 2.15454000e+06\n 2.63663700e+06 1.58851357e+08 3.92675150e+07 6.02513710e+07\n 2.22114260e+07 7.67820459e+08 2.02466756e+08 1.28978000e+05\n 1.78727960e+07 9.33959197e+08 1.57107755e+08 3.92000694e+08\n 7.56372800e+06 5.03637900e+07 1.18059170e+07 2.60095987e+08\n 1.06543900e+06 3.08192500e+06 1.79213434e+08 1.95268056e+08\n 1.64590040e+07 7.45544700e+06 4.07711549e+08 1.69852759e+08\n 1.06303988e+08 1.81242620e+07 8.36297228e+08 4.52365430e+07\n 9.04000000e+07 9.97568400e+06 4.64655000e+05 8.22021500e+06\n 1.35559880e+07 2.09154650e+07 1.50277000e+05 2.52790400e+06\n 8.66999000e+05 1.71269535e+08 5.62816256e+08 1.69800980e+07\n 5.63706000e+05 1.34748021e+08 1.43751810e+07 4.10241000e+05\n 1.92452832e+08 3.45051100e+07 2.99224720e+07 3.94076160e+07\n 6.52105443e+08 3.47234916e+08 2.43400000e+08 1.39000000e+08\n 2.35800000e+07 5.82024000e+05 1.94364900e+06 1.29266061e+08\n 2.87928194e+08 5.05491070e+07 1.45708642e+08 8.43414600e+06\n 1.62477750e+07 1.78262620e+08 8.95197730e+07 3.27311859e+08\n 5.71038950e+07 8.64080830e+07 2.73887670e+07 6.73780000e+05\n 1.43783530e+07 1.24000000e+07 4.47932220e+07 4.75000000e+06\n 8.47859140e+07 2.33675860e+07 6.85245000e+06 7.99585990e+07\n 3.63889678e+08 7.83091310e+07 1.43653000e+05 3.81725000e+07\n 7.55059730e+07 1.50680864e+08 1.38259062e+08 3.24138000e+05\n 2.15108510e+07 4.49220945e+08 3.66205080e+07 5.50031350e+07\n 4.78207520e+08 2.62883200e+07 5.74903740e+07 5.89000310e+07\n 1.10468200e+06 1.80949000e+08 8.00000000e+05 5.63482800e+06\n 1.15035090e+08 3.53743000e+05 7.41889370e+07 1.35758090e+07\n 1.99200000e+08 1.73965010e+08 2.26497209e+08 2.47275374e+08\n 5.06500790e+07 4.12963200e+07 4.23332950e+07 1.65184237e+08\n 5.92177890e+07 3.13278990e+07 1.41195658e+08 7.00000000e+06\n 2.89725080e+07 1.79858930e+07 2.33131800e+06 2.29573300e+06\n 2.29311000e+05 4.06449500e+06 1.33432856e+08 1.84320000e+07\n 1.69837010e+08 9.00926000e+05 3.11594032e+08 1.72009250e+07\n 2.34801895e+08 1.49800050e+07 1.36706683e+08 1.16422540e+07\n 3.96468200e+06 6.39900000e+03 1.89997180e+07 9.00296560e+07\n 1.68389100e+07 3.43234200e+06 5.10957000e+05 4.05474400e+07\n 1.93221350e+07 1.09479800e+06 5.00000000e+05 1.30278570e+07\n 2.82625740e+07 1.11764690e+07 1.24494000e+05 2.22399000e+06\n 5.91921280e+07 2.93310680e+07 1.55984000e+05 1.12544580e+08\n 8.71279000e+05 4.18954910e+07 3.66101666e+08 3.45854160e+07\n 4.53000000e+07 2.14821200e+06 1.27869379e+08 6.41107280e+07\n 1.05200903e+08 1.18587880e+08 2.32458400e+07 1.04931801e+08\n 2.74574090e+07 5.54987477e+08 1.04244700e+07 7.51887600e+06\n 1.13020255e+08 5.76191700e+06 2.07666160e+07 9.63628900e+06\n 4.04526430e+07 7.83766341e+08 6.21228200e+06 4.63406200e+06\n 1.20175290e+08 5.19311965e+08 1.38805831e+08 5.32150800e+06\n 1.00173220e+07 7.27787120e+07 1.63733697e+08 5.89266100e+06\n 1.49281606e+08 8.88808210e+07 4.20641050e+07 4.65100300e+06\n 1.40000000e+07 5.32081800e+07 3.91877830e+07 6.09229800e+07\n 5.80000000e+07 2.16485654e+08 1.95390000e+04 8.19555100e+06\n 5.17339210e+07 1.03039258e+08 2.97000000e+07 6.85148440e+07\n 4.22851690e+07 3.86078000e+05 2.61572744e+08 7.60000000e+06\n 1.48675140e+07 5.67141470e+07 3.06085800e+06 5.85174222e+08\n 3.36976470e+07 2.96121370e+07 2.02413950e+07 7.21788950e+07\n 3.07166834e+08 7.00000000e+06 8.49389000e+06 3.56830601e+08\n 1.00700000e+07 1.14173620e+07 9.94235210e+07 3.70541256e+08\n 1.92467000e+05 2.23664608e+08 6.49398328e+08 5.31927000e+07\n 3.04000000e+07 1.33778000e+05 4.38480690e+07 8.25532764e+08\n 1.00240000e+05 5.68478900e+06 8.02587200e+06 1.73921954e+08\n 3.20953180e+07 2.74098890e+07 4.94130000e+04 2.24012234e+08\n 2.65107000e+05 1.00000000e+07 2.36500000e+07 3.80857780e+07\n 2.43347000e+05 1.85991646e+08 3.18982000e+05].\nReshape your data either using array.reshape(-1, 1) if your data has a single feature or array.reshape(1, -1) if it contains a single sample.",
     "output_type": "error",
     "traceback": [
      "\u001b[0;31m---------------------------------------------------------------------------\u001b[0m",
      "\u001b[0;31mValueError\u001b[0m                                Traceback (most recent call last)",
      "\u001b[0;32m<ipython-input-49-d6d15269be7e>\u001b[0m in \u001b[0;36m<module>\u001b[0;34m\u001b[0m\n\u001b[0;32m----> 1\u001b[0;31m \u001b[0msvr_score\u001b[0m \u001b[0;34m=\u001b[0m \u001b[0mclf\u001b[0m\u001b[0;34m.\u001b[0m\u001b[0mscore\u001b[0m\u001b[0;34m(\u001b[0m\u001b[0my_test\u001b[0m\u001b[0;34m,\u001b[0m \u001b[0my_pred\u001b[0m\u001b[0;34m)\u001b[0m\u001b[0;34m\u001b[0m\u001b[0;34m\u001b[0m\u001b[0m\n\u001b[0m\u001b[1;32m      2\u001b[0m \u001b[0msvr_score\u001b[0m\u001b[0;34m\u001b[0m\u001b[0;34m\u001b[0m\u001b[0m\n",
      "\u001b[0;32m/usr/local/lib/python3.6/dist-packages/sklearn/base.py\u001b[0m in \u001b[0;36mscore\u001b[0;34m(self, X, y, sample_weight)\u001b[0m\n\u001b[1;32m    328\u001b[0m \u001b[0;34m\u001b[0m\u001b[0m\n\u001b[1;32m    329\u001b[0m         \u001b[0;32mfrom\u001b[0m \u001b[0;34m.\u001b[0m\u001b[0mmetrics\u001b[0m \u001b[0;32mimport\u001b[0m \u001b[0mr2_score\u001b[0m\u001b[0;34m\u001b[0m\u001b[0;34m\u001b[0m\u001b[0m\n\u001b[0;32m--> 330\u001b[0;31m         return r2_score(y, self.predict(X), sample_weight=sample_weight,\n\u001b[0m\u001b[1;32m    331\u001b[0m                         multioutput='variance_weighted')\n\u001b[1;32m    332\u001b[0m \u001b[0;34m\u001b[0m\u001b[0m\n",
      "\u001b[0;32m/usr/local/lib/python3.6/dist-packages/sklearn/svm/base.py\u001b[0m in \u001b[0;36mpredict\u001b[0;34m(self, X)\u001b[0m\n\u001b[1;32m    323\u001b[0m         \u001b[0my_pred\u001b[0m \u001b[0;34m:\u001b[0m \u001b[0marray\u001b[0m\u001b[0;34m,\u001b[0m \u001b[0mshape\u001b[0m \u001b[0;34m(\u001b[0m\u001b[0mn_samples\u001b[0m\u001b[0;34m,\u001b[0m\u001b[0;34m)\u001b[0m\u001b[0;34m\u001b[0m\u001b[0;34m\u001b[0m\u001b[0m\n\u001b[1;32m    324\u001b[0m         \"\"\"\n\u001b[0;32m--> 325\u001b[0;31m         \u001b[0mX\u001b[0m \u001b[0;34m=\u001b[0m \u001b[0mself\u001b[0m\u001b[0;34m.\u001b[0m\u001b[0m_validate_for_predict\u001b[0m\u001b[0;34m(\u001b[0m\u001b[0mX\u001b[0m\u001b[0;34m)\u001b[0m\u001b[0;34m\u001b[0m\u001b[0;34m\u001b[0m\u001b[0m\n\u001b[0m\u001b[1;32m    326\u001b[0m         \u001b[0mpredict\u001b[0m \u001b[0;34m=\u001b[0m \u001b[0mself\u001b[0m\u001b[0;34m.\u001b[0m\u001b[0m_sparse_predict\u001b[0m \u001b[0;32mif\u001b[0m \u001b[0mself\u001b[0m\u001b[0;34m.\u001b[0m\u001b[0m_sparse\u001b[0m \u001b[0;32melse\u001b[0m \u001b[0mself\u001b[0m\u001b[0;34m.\u001b[0m\u001b[0m_dense_predict\u001b[0m\u001b[0;34m\u001b[0m\u001b[0;34m\u001b[0m\u001b[0m\n\u001b[1;32m    327\u001b[0m         \u001b[0;32mreturn\u001b[0m \u001b[0mpredict\u001b[0m\u001b[0;34m(\u001b[0m\u001b[0mX\u001b[0m\u001b[0;34m)\u001b[0m\u001b[0;34m\u001b[0m\u001b[0;34m\u001b[0m\u001b[0m\n",
      "\u001b[0;32m/usr/local/lib/python3.6/dist-packages/sklearn/svm/base.py\u001b[0m in \u001b[0;36m_validate_for_predict\u001b[0;34m(self, X)\u001b[0m\n\u001b[1;32m    456\u001b[0m \u001b[0;34m\u001b[0m\u001b[0m\n\u001b[1;32m    457\u001b[0m         X = check_array(X, accept_sparse='csr', dtype=np.float64, order=\"C\",\n\u001b[0;32m--> 458\u001b[0;31m                         accept_large_sparse=False)\n\u001b[0m\u001b[1;32m    459\u001b[0m         \u001b[0;32mif\u001b[0m \u001b[0mself\u001b[0m\u001b[0;34m.\u001b[0m\u001b[0m_sparse\u001b[0m \u001b[0;32mand\u001b[0m \u001b[0;32mnot\u001b[0m \u001b[0msp\u001b[0m\u001b[0;34m.\u001b[0m\u001b[0misspmatrix\u001b[0m\u001b[0;34m(\u001b[0m\u001b[0mX\u001b[0m\u001b[0;34m)\u001b[0m\u001b[0;34m:\u001b[0m\u001b[0;34m\u001b[0m\u001b[0;34m\u001b[0m\u001b[0m\n\u001b[1;32m    460\u001b[0m             \u001b[0mX\u001b[0m \u001b[0;34m=\u001b[0m \u001b[0msp\u001b[0m\u001b[0;34m.\u001b[0m\u001b[0mcsr_matrix\u001b[0m\u001b[0;34m(\u001b[0m\u001b[0mX\u001b[0m\u001b[0;34m)\u001b[0m\u001b[0;34m\u001b[0m\u001b[0;34m\u001b[0m\u001b[0m\n",
      "\u001b[0;32m/usr/local/lib/python3.6/dist-packages/sklearn/utils/validation.py\u001b[0m in \u001b[0;36mcheck_array\u001b[0;34m(array, accept_sparse, accept_large_sparse, dtype, order, copy, force_all_finite, ensure_2d, allow_nd, ensure_min_samples, ensure_min_features, warn_on_dtype, estimator)\u001b[0m\n\u001b[1;32m    550\u001b[0m                     \u001b[0;34m\"Reshape your data either using array.reshape(-1, 1) if \"\u001b[0m\u001b[0;34m\u001b[0m\u001b[0;34m\u001b[0m\u001b[0m\n\u001b[1;32m    551\u001b[0m                     \u001b[0;34m\"your data has a single feature or array.reshape(1, -1) \"\u001b[0m\u001b[0;34m\u001b[0m\u001b[0;34m\u001b[0m\u001b[0m\n\u001b[0;32m--> 552\u001b[0;31m                     \"if it contains a single sample.\".format(array))\n\u001b[0m\u001b[1;32m    553\u001b[0m \u001b[0;34m\u001b[0m\u001b[0m\n\u001b[1;32m    554\u001b[0m         \u001b[0;31m# in the future np.flexible dtypes will be handled like object dtypes\u001b[0m\u001b[0;34m\u001b[0m\u001b[0;34m\u001b[0m\u001b[0;34m\u001b[0m\u001b[0m\n",
      "\u001b[0;31mValueError\u001b[0m: Expected 2D array, got 1D array instead:\narray=[1.22996680e+07 9.51462830e+07 1.72923810e+07 1.96297600e+07\n 1.86495200e+06 1.59212469e+08 2.95417900e+07 4.61983149e+08\n 1.14660880e+07 1.15922175e+08 1.92812350e+07 5.39097510e+07\n 4.57100590e+07 6.69276000e+05 8.19939000e+05 1.01624843e+08\n 4.74968763e+08 5.67559900e+06 5.02478200e+06 1.11378010e+07\n 7.88748430e+07 1.74720000e+04 1.96397415e+08 8.10824700e+06\n 2.20000000e+07 1.17758500e+08 1.26546825e+08 2.29074524e+08\n 3.01119500e+06 2.41547200e+06 7.66698060e+07 4.03326800e+06\n 9.85341000e+05 9.75520500e+07 1.44000000e+07 3.50576960e+07\n 2.84914200e+06 1.23146510e+07 8.15250000e+04 4.03170142e+08\n 2.15877000e+07 2.86102000e+06 2.35483004e+08 1.19452000e+05\n 1.73829820e+07 4.00062763e+08 9.36170090e+07 7.80852400e+06\n 7.25000000e+07 1.09449237e+08 5.77835300e+06 5.66530000e+04\n 1.18666000e+05 8.90000000e+06 1.04876233e+08 1.23426320e+07\n 6.86967700e+07 2.54829310e+07 4.63004500e+06 5.20000000e+08\n 6.95229000e+05 1.35560026e+08 1.91919700e+06 3.54023200e+07\n 1.83345589e+08 4.18693100e+06 4.41758000e+06 4.71173600e+06\n 1.32140300e+07 1.53083102e+08 3.16729070e+07 6.40524500e+06\n 1.02825796e+08 1.89833357e+08 5.35874040e+07 9.75720000e+07\n 1.22233971e+08 3.06417700e+07 8.57611174e+08 1.13019290e+08\n 2.88189950e+07 3.68780809e+08 1.55446362e+08 3.25756637e+08\n 1.04571380e+09 3.09256900e+07 7.67474410e+07 1.38351300e+07\n 3.22115200e+06 5.24258550e+07 3.91081192e+08 1.04297070e+07\n 1.24272124e+08 1.60886100e+07 7.20000000e+06 7.45976430e+07\n 4.91112020e+07 4.41966840e+07 6.54643240e+07 4.18488000e+05\n 5.51811290e+07 5.28500000e+04 2.45676146e+08 9.37000000e+07\n 5.18011870e+07 1.29956730e+07 6.26467630e+07 1.23724100e+07\n 1.45678830e+07 1.18880016e+08 1.49217355e+08 3.03120000e+04\n 1.81674817e+08 2.43843127e+08 3.25561190e+07 4.36568220e+07\n 9.37725220e+07 1.17719158e+08 3.85680446e+08 3.84136060e+07\n 4.34931230e+07 5.21098800e+06 1.59375308e+08 3.50071800e+07\n 1.03735000e+05 1.52126100e+06 1.40470746e+08 5.93790000e+04\n 5.65061200e+07 1.77200000e+08 9.08155580e+07 2.18613188e+08\n 7.05717432e+08 1.30000000e+07 1.24827750e+07 5.95202980e+07\n 5.87160300e+06 3.34615000e+08 3.20170008e+08 3.63513500e+07\n 1.36267476e+08 1.17185950e+07 1.24881062e+08 4.98000000e+07\n 1.13857533e+08 1.77243185e+08 8.89291110e+07 3.39658430e+07\n 4.12376480e+07 2.29422210e+07 1.42044638e+08 3.71700570e+07\n 3.16996000e+05 1.76262340e+07 1.02272000e+06 6.04461800e+06\n 4.77200000e+08 1.91799690e+07 6.55350670e+07 1.47700200e+06\n 2.06172544e+08 1.73013509e+08 9.70816000e+05 3.35154643e+08\n 9.50160000e+04 1.36789130e+07 1.12483764e+08 7.64327270e+07\n 7.23000000e+06 1.98466200e+06 3.25771424e+08 2.88347692e+08\n 4.89029530e+07 9.53114340e+07 2.74925095e+08 2.93329073e+08\n 2.74470394e+08 2.50000000e+06 1.31962450e+07 3.51779700e+06\n 9.62749200e+06 7.52215857e+08 2.01634991e+08 6.02899120e+07\n 2.86214286e+08 2.00804534e+08 2.04594016e+08 4.31015940e+07\n 1.01393569e+08 3.91711300e+07 4.64880000e+04 1.75372502e+08\n 6.58847030e+07 1.00000000e+07 3.58991681e+08 7.50780000e+04\n 3.44093900e+06 2.45084600e+06 2.03800000e+04 7.01818900e+06\n 1.87361754e+08 1.44216468e+08 6.07000000e+07 1.31000000e+07\n 1.63743280e+07 1.91840150e+07 2.13783610e+07 6.67342200e+06\n 1.32180323e+08 1.36817650e+07 4.49658300e+06 3.96731620e+07\n 5.43513985e+08 5.00075460e+07 6.38334490e+07 1.03374770e+07\n 1.05316267e+08 5.21660000e+04 1.05441430e+07 9.11964190e+07\n 3.14432665e+08 2.35926552e+08 3.53624124e+08 2.95064640e+07\n 6.08961470e+07 4.43766250e+07 3.74400000e+04 2.06273720e+07\n 1.74463257e+08 3.03025485e+08 1.30608430e+07 8.77540440e+07\n 4.48621870e+07 6.85723780e+07 4.23404000e+06 1.89484250e+07\n 8.05737740e+07 4.00112100e+06 3.19127930e+07 9.35255860e+07\n 9.60476330e+07 3.52114312e+08 9.28631400e+06 4.88149090e+07\n 3.34728500e+07 4.17970660e+07 2.21683590e+07 1.53695730e+07\n 1.00000000e+04 7.77473000e+06 1.52159461e+08 8.00000000e+06\n 4.38623600e+06 4.83307570e+07 1.60000000e+07 2.94000000e+07\n 3.27216350e+07 4.97971480e+07 4.33677183e+08 2.21656080e+07\n 5.24400510e+07 1.04324083e+08 1.78043761e+08 5.51123560e+07\n 4.49326618e+08 2.72742922e+08 1.40767956e+08 2.45360480e+08\n 6.86732280e+07 1.14663461e+08 2.24339150e+07 6.29416100e+06\n 2.00342000e+06 2.22000000e+07 2.95238201e+08 1.24914842e+08\n 1.30000000e+07 1.03207500e+06 1.11220900e+07 7.88870300e+06\n 5.93894330e+07 5.21749800e+06 1.51021270e+07 1.53997819e+08\n 7.82582000e+06 5.51575390e+07 5.70961900e+07 1.47080413e+08\n 2.28108900e+06 1.51714750e+07 3.75832800e+06 3.41631208e+08\n 1.35680000e+08 1.98033800e+06 3.45304300e+06 2.58022233e+08\n 1.14660784e+08 9.00000000e+06 3.96600000e+08 6.60000000e+06\n 2.58997970e+07 9.29131710e+07 1.17000000e+08 8.09164920e+07\n 5.07523370e+07 4.77746500e+06 2.58420000e+07 6.37820780e+07\n 1.05197635e+08 3.71876278e+08 9.51494350e+07 1.54471540e+07\n 7.69653595e+08 1.15608060e+07 8.50000000e+08 2.39254920e+07\n 1.02549111e+09 2.10885680e+07 2.95468000e+05 1.15772733e+08\n 1.11308890e+07 1.49673788e+08 1.27825080e+07 2.49027230e+07\n 2.15000000e+08 9.26287400e+08 2.96400000e+03 3.60000000e+07\n 2.89997000e+06 3.04260960e+07 8.40258160e+07 4.27000000e+06\n 4.49072600e+07 5.72809000e+05 7.09827462e+08 1.25494850e+07\n 4.07602906e+08 1.22195920e+08 1.22444772e+08 4.29310410e+07\n 8.50000000e+06 8.69304110e+07 2.18172980e+07 1.22915111e+08\n 1.92330738e+08 3.15560610e+07 7.30524280e+07 1.87500000e+08\n 7.00000000e+07 6.60940780e+08 1.81950000e+04 7.11865020e+07\n 1.33960541e+08 3.03180100e+06 5.38545880e+07 5.46060000e+04\n 1.21147947e+08 1.17195061e+08 1.56085450e+07 2.99965036e+08\n 3.73175580e+07 1.81466833e+08 3.75662300e+07 5.00231000e+06\n 1.21214377e+08 9.31072890e+07 3.20000000e+07 1.28388320e+08\n 1.10879513e+08 2.23387299e+08 1.09700000e+03 7.71121760e+07\n 1.03722910e+07 5.22939820e+07 6.67071200e+06 3.51348200e+07\n 8.00354020e+07 1.21756000e+05 7.48806957e+08 1.60602194e+08\n 2.18003020e+07 1.80622424e+08 4.11707840e+07 1.25327770e+07\n 4.34900570e+07 3.09492681e+08 3.63487840e+07 1.48412065e+08\n 8.52206000e+05 1.40000000e+08 5.39772500e+07 7.42082670e+07\n 3.73552094e+08 8.66585580e+07 4.00000000e+06 2.93671430e+07\n 1.59291809e+08 1.69308840e+07 7.18683270e+07 9.76475550e+08\n 6.62845518e+08 1.22919055e+08 1.14178613e+08 7.10698840e+07\n 5.68250000e+04 9.99657530e+07 1.50081610e+07 2.38940000e+07\n 3.00500280e+07 4.16274310e+07 5.94682750e+07 2.55629240e+07\n 1.15760870e+07 8.63623720e+07 1.52925093e+08 8.33043300e+07\n 7.49523050e+07 4.21051110e+07 5.60704330e+07 1.02146470e+07\n 3.62744280e+08 8.47423452e+08 1.81973980e+07 1.97776470e+07\n 7.39486030e+07 5.51847210e+07 2.31568300e+06 9.70091500e+07\n 6.83694340e+07 1.15267375e+08 1.60388063e+08 1.15505027e+08\n 3.33574760e+07 2.81611600e+06 2.42786137e+08 1.40000000e+07\n 5.99019130e+07 7.76282650e+07 3.40779200e+07 4.47039950e+07\n 1.86536150e+07 2.00276000e+08 1.65194600e+07 6.90556950e+07\n 1.97011640e+07 1.25586134e+08 1.27906624e+08 1.38000000e+07\n 8.43000000e+07 2.32640700e+06 3.02469017e+08 1.44600000e+07\n 1.12374700e+09 5.42643420e+07 4.00000000e+06 4.95540020e+07\n 2.27308420e+07 5.08771450e+07 8.67589120e+07 1.37945000e+05\n 1.50000000e+07 2.29147509e+08 9.81265650e+07 2.47694660e+07\n 1.49044513e+08 3.58372926e+08 1.21969216e+08 5.35964500e+06\n 1.87674000e+05 2.22104681e+08 4.29196500e+06 1.91502426e+08\n 1.24305181e+08 9.13535010e+07 6.94713380e+08 1.48730000e+04\n 1.98685114e+08 5.62984740e+07 3.67275019e+08 4.69281400e+06\n 9.86257750e+07 1.18578300e+06 4.14000000e+07 2.61542110e+07\n 6.80401600e+06 2.62000000e+06 1.05415230e+07 1.25537191e+08\n 6.28820900e+07 4.20000000e+07 2.07194510e+07 4.70889900e+07\n 1.20550000e+04 2.04092000e+06 1.74365090e+07 4.55007970e+07\n 5.59690000e+07 1.68726710e+07 1.00138851e+08 1.54749918e+08\n 3.56929200e+07 1.16019547e+08 3.12894100e+06 8.35578720e+07\n 1.62944923e+08 3.62302190e+07 1.33718711e+08 6.10872000e+06\n 1.54271920e+07 1.70362582e+08 6.34648610e+07 1.20000000e+07\n 3.05360130e+07 1.07217396e+08 4.57696359e+08 4.15967800e+06\n 4.85736700e+06 3.76141306e+08 9.09445100e+06 1.66626200e+06\n 1.17724610e+07 1.26216940e+08 1.88126000e+05 3.05232260e+07\n 3.05070000e+05 7.46085700e+07 6.40885520e+07 2.40159255e+08\n 1.00455844e+09 1.50962475e+08 1.40807547e+08 4.80279700e+07\n 2.12256100e+06 8.09362320e+07 1.09676311e+08 1.56556650e+07\n 2.26071200e+06 2.76454910e+07 8.00000000e+06 3.16360478e+08\n 2.45527149e+08 7.80000000e+06 3.89925971e+08 1.52812860e+07\n 1.49705852e+08 2.94804195e+08 1.87479518e+08 2.00000000e+06\n 2.20000000e+06 9.23746740e+07 8.46060300e+07 1.36200750e+07\n 2.50649836e+08 1.09140510e+09 1.61238510e+07 5.44272402e+08\n 9.40000000e+07 1.66719200e+06 1.20173690e+07 2.95493000e+05\n 3.00000000e+07 8.10916000e+06 1.17831631e+08 2.15454000e+06\n 2.63663700e+06 1.58851357e+08 3.92675150e+07 6.02513710e+07\n 2.22114260e+07 7.67820459e+08 2.02466756e+08 1.28978000e+05\n 1.78727960e+07 9.33959197e+08 1.57107755e+08 3.92000694e+08\n 7.56372800e+06 5.03637900e+07 1.18059170e+07 2.60095987e+08\n 1.06543900e+06 3.08192500e+06 1.79213434e+08 1.95268056e+08\n 1.64590040e+07 7.45544700e+06 4.07711549e+08 1.69852759e+08\n 1.06303988e+08 1.81242620e+07 8.36297228e+08 4.52365430e+07\n 9.04000000e+07 9.97568400e+06 4.64655000e+05 8.22021500e+06\n 1.35559880e+07 2.09154650e+07 1.50277000e+05 2.52790400e+06\n 8.66999000e+05 1.71269535e+08 5.62816256e+08 1.69800980e+07\n 5.63706000e+05 1.34748021e+08 1.43751810e+07 4.10241000e+05\n 1.92452832e+08 3.45051100e+07 2.99224720e+07 3.94076160e+07\n 6.52105443e+08 3.47234916e+08 2.43400000e+08 1.39000000e+08\n 2.35800000e+07 5.82024000e+05 1.94364900e+06 1.29266061e+08\n 2.87928194e+08 5.05491070e+07 1.45708642e+08 8.43414600e+06\n 1.62477750e+07 1.78262620e+08 8.95197730e+07 3.27311859e+08\n 5.71038950e+07 8.64080830e+07 2.73887670e+07 6.73780000e+05\n 1.43783530e+07 1.24000000e+07 4.47932220e+07 4.75000000e+06\n 8.47859140e+07 2.33675860e+07 6.85245000e+06 7.99585990e+07\n 3.63889678e+08 7.83091310e+07 1.43653000e+05 3.81725000e+07\n 7.55059730e+07 1.50680864e+08 1.38259062e+08 3.24138000e+05\n 2.15108510e+07 4.49220945e+08 3.66205080e+07 5.50031350e+07\n 4.78207520e+08 2.62883200e+07 5.74903740e+07 5.89000310e+07\n 1.10468200e+06 1.80949000e+08 8.00000000e+05 5.63482800e+06\n 1.15035090e+08 3.53743000e+05 7.41889370e+07 1.35758090e+07\n 1.99200000e+08 1.73965010e+08 2.26497209e+08 2.47275374e+08\n 5.06500790e+07 4.12963200e+07 4.23332950e+07 1.65184237e+08\n 5.92177890e+07 3.13278990e+07 1.41195658e+08 7.00000000e+06\n 2.89725080e+07 1.79858930e+07 2.33131800e+06 2.29573300e+06\n 2.29311000e+05 4.06449500e+06 1.33432856e+08 1.84320000e+07\n 1.69837010e+08 9.00926000e+05 3.11594032e+08 1.72009250e+07\n 2.34801895e+08 1.49800050e+07 1.36706683e+08 1.16422540e+07\n 3.96468200e+06 6.39900000e+03 1.89997180e+07 9.00296560e+07\n 1.68389100e+07 3.43234200e+06 5.10957000e+05 4.05474400e+07\n 1.93221350e+07 1.09479800e+06 5.00000000e+05 1.30278570e+07\n 2.82625740e+07 1.11764690e+07 1.24494000e+05 2.22399000e+06\n 5.91921280e+07 2.93310680e+07 1.55984000e+05 1.12544580e+08\n 8.71279000e+05 4.18954910e+07 3.66101666e+08 3.45854160e+07\n 4.53000000e+07 2.14821200e+06 1.27869379e+08 6.41107280e+07\n 1.05200903e+08 1.18587880e+08 2.32458400e+07 1.04931801e+08\n 2.74574090e+07 5.54987477e+08 1.04244700e+07 7.51887600e+06\n 1.13020255e+08 5.76191700e+06 2.07666160e+07 9.63628900e+06\n 4.04526430e+07 7.83766341e+08 6.21228200e+06 4.63406200e+06\n 1.20175290e+08 5.19311965e+08 1.38805831e+08 5.32150800e+06\n 1.00173220e+07 7.27787120e+07 1.63733697e+08 5.89266100e+06\n 1.49281606e+08 8.88808210e+07 4.20641050e+07 4.65100300e+06\n 1.40000000e+07 5.32081800e+07 3.91877830e+07 6.09229800e+07\n 5.80000000e+07 2.16485654e+08 1.95390000e+04 8.19555100e+06\n 5.17339210e+07 1.03039258e+08 2.97000000e+07 6.85148440e+07\n 4.22851690e+07 3.86078000e+05 2.61572744e+08 7.60000000e+06\n 1.48675140e+07 5.67141470e+07 3.06085800e+06 5.85174222e+08\n 3.36976470e+07 2.96121370e+07 2.02413950e+07 7.21788950e+07\n 3.07166834e+08 7.00000000e+06 8.49389000e+06 3.56830601e+08\n 1.00700000e+07 1.14173620e+07 9.94235210e+07 3.70541256e+08\n 1.92467000e+05 2.23664608e+08 6.49398328e+08 5.31927000e+07\n 3.04000000e+07 1.33778000e+05 4.38480690e+07 8.25532764e+08\n 1.00240000e+05 5.68478900e+06 8.02587200e+06 1.73921954e+08\n 3.20953180e+07 2.74098890e+07 4.94130000e+04 2.24012234e+08\n 2.65107000e+05 1.00000000e+07 2.36500000e+07 3.80857780e+07\n 2.43347000e+05 1.85991646e+08 3.18982000e+05].\nReshape your data either using array.reshape(-1, 1) if your data has a single feature or array.reshape(1, -1) if it contains a single sample."
     ]
    }
   ],
   "source": [
    "svr_score = clf.score(y_test, y_pred)\n",
    "svr_score"
   ]
  },
  {
   "cell_type": "code",
   "execution_count": null,
   "metadata": {},
   "outputs": [],
   "source": []
  },
  {
   "cell_type": "code",
   "execution_count": 50,
   "metadata": {},
   "outputs": [
    {
     "data": {
      "text/plain": [
       "Ridge(alpha=0.5, copy_X=True, fit_intercept=True, max_iter=None,\n",
       "   normalize=False, random_state=None, solver='auto', tol=0.001)"
      ]
     },
     "execution_count": 50,
     "metadata": {},
     "output_type": "execute_result"
    }
   ],
   "source": [
    "reg = linear_model.Ridge(alpha=.5)\n",
    "reg.fit(X_train, y_train) "
   ]
  },
  {
   "cell_type": "code",
   "execution_count": 51,
   "metadata": {},
   "outputs": [
    {
     "data": {
      "text/plain": [
       "array([-1.52853823e+05,  1.66554550e+00,  3.41582891e+06,  5.78157639e+04,\n",
       "        3.28555120e+05])"
      ]
     },
     "execution_count": 51,
     "metadata": {},
     "output_type": "execute_result"
    }
   ],
   "source": [
    "reg.coef_"
   ]
  },
  {
   "cell_type": "code",
   "execution_count": 52,
   "metadata": {},
   "outputs": [
    {
     "data": {
      "text/plain": [
       "-19476533.21018696"
      ]
     },
     "execution_count": 52,
     "metadata": {},
     "output_type": "execute_result"
    }
   ],
   "source": [
    "reg.intercept_ "
   ]
  },
  {
   "cell_type": "code",
   "execution_count": null,
   "metadata": {},
   "outputs": [],
   "source": []
  },
  {
   "cell_type": "code",
   "execution_count": 53,
   "metadata": {},
   "outputs": [
    {
     "data": {
      "text/plain": [
       "0.6939264574918536"
      ]
     },
     "execution_count": 53,
     "metadata": {},
     "output_type": "execute_result"
    }
   ],
   "source": [
    "lrm = linear_model.LinearRegression()\n",
    "lrm.fit(X_train, y_train)\n",
    "lrm.intercept_\n",
    "lrm.coef_\n",
    "\n",
    "lrm.score(X_train, y_train)"
   ]
  },
  {
   "cell_type": "code",
   "execution_count": null,
   "metadata": {},
   "outputs": [],
   "source": []
  },
  {
   "cell_type": "code",
   "execution_count": 29,
   "metadata": {},
   "outputs": [
    {
     "data": {
      "text/plain": [
       "runtime         float64\n",
       "budget            int64\n",
       "vote_average    float64\n",
       "vote_count        int64\n",
       "popularity      float64\n",
       "revenue           int64\n",
       "dtype: object"
      ]
     },
     "execution_count": 29,
     "metadata": {},
     "output_type": "execute_result"
    }
   ],
   "source": [
    "df6.dtypes"
   ]
  },
  {
   "cell_type": "code",
   "execution_count": 30,
   "metadata": {},
   "outputs": [],
   "source": [
    "# import seaborn as sns\n",
    "# sns.set(style=\"ticks\")\n",
    "\n",
    "# sns.pairplot(df6, hue=\"revenue\")"
   ]
  },
  {
   "cell_type": "code",
   "execution_count": 31,
   "metadata": {},
   "outputs": [
    {
     "data": {
      "text/html": [
       "<div>\n",
       "<style scoped>\n",
       "    .dataframe tbody tr th:only-of-type {\n",
       "        vertical-align: middle;\n",
       "    }\n",
       "\n",
       "    .dataframe tbody tr th {\n",
       "        vertical-align: top;\n",
       "    }\n",
       "\n",
       "    .dataframe thead th {\n",
       "        text-align: right;\n",
       "    }\n",
       "</style>\n",
       "<table border=\"1\" class=\"dataframe\">\n",
       "  <thead>\n",
       "    <tr style=\"text-align: right;\">\n",
       "      <th></th>\n",
       "      <th>runtime</th>\n",
       "      <th>budget</th>\n",
       "      <th>vote_average</th>\n",
       "      <th>vote_count</th>\n",
       "      <th>popularity</th>\n",
       "      <th>revenue</th>\n",
       "    </tr>\n",
       "  </thead>\n",
       "  <tbody>\n",
       "    <tr>\n",
       "      <th>1</th>\n",
       "      <td>169.0</td>\n",
       "      <td>300000000</td>\n",
       "      <td>6.9</td>\n",
       "      <td>4500</td>\n",
       "      <td>139.082615</td>\n",
       "      <td>961000000</td>\n",
       "    </tr>\n",
       "    <tr>\n",
       "      <th>2</th>\n",
       "      <td>148.0</td>\n",
       "      <td>245000000</td>\n",
       "      <td>6.3</td>\n",
       "      <td>4466</td>\n",
       "      <td>107.376788</td>\n",
       "      <td>880674609</td>\n",
       "    </tr>\n",
       "    <tr>\n",
       "      <th>3</th>\n",
       "      <td>165.0</td>\n",
       "      <td>250000000</td>\n",
       "      <td>7.6</td>\n",
       "      <td>9106</td>\n",
       "      <td>112.312950</td>\n",
       "      <td>1084939099</td>\n",
       "    </tr>\n",
       "    <tr>\n",
       "      <th>4</th>\n",
       "      <td>132.0</td>\n",
       "      <td>260000000</td>\n",
       "      <td>6.1</td>\n",
       "      <td>2124</td>\n",
       "      <td>43.926995</td>\n",
       "      <td>284139100</td>\n",
       "    </tr>\n",
       "    <tr>\n",
       "      <th>5</th>\n",
       "      <td>139.0</td>\n",
       "      <td>258000000</td>\n",
       "      <td>5.9</td>\n",
       "      <td>3576</td>\n",
       "      <td>115.699814</td>\n",
       "      <td>890871626</td>\n",
       "    </tr>\n",
       "  </tbody>\n",
       "</table>\n",
       "</div>"
      ],
      "text/plain": [
       "   runtime     budget  vote_average  vote_count  popularity     revenue\n",
       "1    169.0  300000000           6.9        4500  139.082615   961000000\n",
       "2    148.0  245000000           6.3        4466  107.376788   880674609\n",
       "3    165.0  250000000           7.6        9106  112.312950  1084939099\n",
       "4    132.0  260000000           6.1        2124   43.926995   284139100\n",
       "5    139.0  258000000           5.9        3576  115.699814   890871626"
      ]
     },
     "execution_count": 31,
     "metadata": {},
     "output_type": "execute_result"
    }
   ],
   "source": [
    "df6.head()"
   ]
  },
  {
   "cell_type": "code",
   "execution_count": null,
   "metadata": {},
   "outputs": [],
   "source": []
  },
  {
   "cell_type": "code",
   "execution_count": null,
   "metadata": {},
   "outputs": [],
   "source": []
  },
  {
   "cell_type": "code",
   "execution_count": null,
   "metadata": {},
   "outputs": [],
   "source": []
  }
 ],
 "metadata": {
  "kernelspec": {
   "display_name": "Python 3",
   "language": "python",
   "name": "python3"
  },
  "language_info": {
   "codemirror_mode": {
    "name": "ipython",
    "version": 3
   },
   "file_extension": ".py",
   "mimetype": "text/x-python",
   "name": "python",
   "nbconvert_exporter": "python",
   "pygments_lexer": "ipython3",
   "version": "3.6.7"
  }
 },
 "nbformat": 4,
 "nbformat_minor": 2
}
