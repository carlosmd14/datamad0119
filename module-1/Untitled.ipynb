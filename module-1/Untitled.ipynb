{
 "cells": [
  {
   "cell_type": "code",
   "execution_count": 3,
   "metadata": {},
   "outputs": [
    {
     "data": {
      "text/plain": [
       "'1.16.0'"
      ]
     },
     "execution_count": 3,
     "metadata": {},
     "output_type": "execute_result"
    }
   ],
   "source": [
    "import numpy as np\n",
    "np.version.version"
   ]
  },
  {
   "cell_type": "code",
   "execution_count": 12,
   "metadata": {},
   "outputs": [],
   "source": [
    "a = np.random.random((2,3,5))"
   ]
  },
  {
   "cell_type": "code",
   "execution_count": 5,
   "metadata": {},
   "outputs": [
    {
     "name": "stdout",
     "output_type": "stream",
     "text": [
      "[[[0.77544786 0.90434747 0.25722615 0.63033804 0.69049366]\n",
      "  [0.72737899 0.84739973 0.42098803 0.68013163 0.23354607]\n",
      "  [0.35497448 0.36188287 0.57291486 0.70961156 0.16173162]]\n",
      "\n",
      " [[0.22384829 0.66639047 0.49519096 0.13869389 0.65658426]\n",
      "  [0.70972532 0.86914733 0.02263763 0.32828162 0.63700933]\n",
      "  [0.24717555 0.43764778 0.8203125  0.43624477 0.79859473]]]\n"
     ]
    }
   ],
   "source": [
    "print(a)"
   ]
  },
  {
   "cell_type": "code",
   "execution_count": 27,
   "metadata": {},
   "outputs": [
    {
     "name": "stdout",
     "output_type": "stream",
     "text": [
      "[[[1. 1. 1.]\n",
      "  [1. 1. 1.]]\n",
      "\n",
      " [[1. 1. 1.]\n",
      "  [1. 1. 1.]]\n",
      "\n",
      " [[1. 1. 1.]\n",
      "  [1. 1. 1.]]\n",
      "\n",
      " [[1. 1. 1.]\n",
      "  [1. 1. 1.]]\n",
      "\n",
      " [[1. 1. 1.]\n",
      "  [1. 1. 1.]]]\n"
     ]
    },
    {
     "data": {
      "text/plain": [
       "(5, 2, 3)"
      ]
     },
     "execution_count": 27,
     "metadata": {},
     "output_type": "execute_result"
    }
   ],
   "source": [
    "b = np.ones((5,2,3))\n",
    "print(b)\n",
    "b.shape"
   ]
  },
  {
   "cell_type": "code",
   "execution_count": 16,
   "metadata": {},
   "outputs": [
    {
     "data": {
      "text/plain": [
       "(5, 2, 3)"
      ]
     },
     "execution_count": 16,
     "metadata": {},
     "output_type": "execute_result"
    }
   ],
   "source": [
    "b.shape"
   ]
  },
  {
   "cell_type": "code",
   "execution_count": 28,
   "metadata": {},
   "outputs": [
    {
     "name": "stdout",
     "output_type": "stream",
     "text": [
      "[[[1. 1. 1. 1. 1.]\n",
      "  [1. 1. 1. 1. 1.]\n",
      "  [1. 1. 1. 1. 1.]]\n",
      "\n",
      " [[1. 1. 1. 1. 1.]\n",
      "  [1. 1. 1. 1. 1.]\n",
      "  [1. 1. 1. 1. 1.]]]\n"
     ]
    },
    {
     "data": {
      "text/plain": [
       "(2, 3, 5)"
      ]
     },
     "execution_count": 28,
     "metadata": {},
     "output_type": "execute_result"
    }
   ],
   "source": [
    "c = np.transpose(b, (1,2,0))\n",
    "print(c)\n",
    "c.shape"
   ]
  },
  {
   "cell_type": "code",
   "execution_count": 30,
   "metadata": {},
   "outputs": [
    {
     "name": "stdout",
     "output_type": "stream",
     "text": [
      "[[[1.75010216 1.92831493 1.83173651 1.22210927 1.12107516]\n",
      "  [1.86822744 1.68589396 1.22941082 1.66468302 1.34050242]\n",
      "  [1.04817178 1.38245809 1.95910295 1.28867581 1.8139714 ]]\n",
      "\n",
      " [[1.31864327 1.00989033 1.18704768 1.82437382 1.63646677]\n",
      "  [1.65621358 1.66810585 1.81810086 1.58559326 1.37026343]\n",
      "  [1.79991724 1.8390663  1.47387651 1.08259352 1.6904948 ]]]\n"
     ]
    }
   ],
   "source": [
    "d = np.add(a,c) \n",
    "print(d)"
   ]
  },
  {
   "cell_type": "code",
   "execution_count": 31,
   "metadata": {},
   "outputs": [
    {
     "name": "stdout",
     "output_type": "stream",
     "text": [
      "[[[0.75010216 0.92831493 0.83173651 0.22210927 0.12107516]\n",
      "  [0.86822744 0.68589396 0.22941082 0.66468302 0.34050242]\n",
      "  [0.04817178 0.38245809 0.95910295 0.28867581 0.8139714 ]]\n",
      "\n",
      " [[0.31864327 0.00989033 0.18704768 0.82437382 0.63646677]\n",
      "  [0.65621358 0.66810585 0.81810086 0.58559326 0.37026343]\n",
      "  [0.79991724 0.8390663  0.47387651 0.08259352 0.6904948 ]]] [[[1.75010216 1.92831493 1.83173651 1.22210927 1.12107516]\n",
      "  [1.86822744 1.68589396 1.22941082 1.66468302 1.34050242]\n",
      "  [1.04817178 1.38245809 1.95910295 1.28867581 1.8139714 ]]\n",
      "\n",
      " [[1.31864327 1.00989033 1.18704768 1.82437382 1.63646677]\n",
      "  [1.65621358 1.66810585 1.81810086 1.58559326 1.37026343]\n",
      "  [1.79991724 1.8390663  1.47387651 1.08259352 1.6904948 ]]]\n"
     ]
    }
   ],
   "source": [
    "print(a, d)"
   ]
  },
  {
   "cell_type": "code",
   "execution_count": 50,
   "metadata": {},
   "outputs": [],
   "source": [
    "e = np.multiply(a,c)"
   ]
  },
  {
   "cell_type": "code",
   "execution_count": 51,
   "metadata": {},
   "outputs": [
    {
     "name": "stdout",
     "output_type": "stream",
     "text": [
      "[[[0.75010216 0.92831493 0.83173651 0.22210927 0.12107516]\n",
      "  [0.86822744 0.68589396 0.22941082 0.66468302 0.34050242]\n",
      "  [0.04817178 0.38245809 0.95910295 0.28867581 0.8139714 ]]\n",
      "\n",
      " [[0.31864327 0.00989033 0.18704768 0.82437382 0.63646677]\n",
      "  [0.65621358 0.66810585 0.81810086 0.58559326 0.37026343]\n",
      "  [0.79991724 0.8390663  0.47387651 0.08259352 0.6904948 ]]]\n"
     ]
    }
   ],
   "source": [
    "print(e)"
   ]
  },
  {
   "cell_type": "code",
   "execution_count": 68,
   "metadata": {},
   "outputs": [
    {
     "name": "stdout",
     "output_type": "stream",
     "text": [
      "1.9591029541264264\n",
      "1.0098903313063965\n",
      "1.5365027645463984\n"
     ]
    }
   ],
   "source": [
    "d_max = d.max()\n",
    "d_min = d.min()\n",
    "d_mean = d.mean()\n",
    "print(d_max)\n",
    "print(d_min)\n",
    "print(d_mean)"
   ]
  },
  {
   "cell_type": "code",
   "execution_count": 82,
   "metadata": {},
   "outputs": [
    {
     "data": {
      "text/plain": [
       "array([[[0.        , 0.92831493, 0.83173651, 0.22210927, 0.12107516],\n",
       "        [0.86822744, 0.68589396, 0.22941082, 0.66468302, 0.34050242],\n",
       "        [0.04817178, 0.38245809, 0.95910295, 0.28867581, 0.8139714 ]],\n",
       "\n",
       "       [[0.31864327, 0.00989033, 0.18704768, 0.82437382, 0.63646677],\n",
       "        [0.65621358, 0.66810585, 0.81810086, 0.58559326, 0.37026343],\n",
       "        [0.79991724, 0.8390663 , 0.47387651, 0.08259352, 0.6904948 ]]])"
      ]
     },
     "execution_count": 82,
     "metadata": {},
     "output_type": "execute_result"
    }
   ],
   "source": [
    "f = np.empty((2,3,5))\n",
    "f"
   ]
  },
  {
   "cell_type": "code",
   "execution_count": 92,
   "metadata": {},
   "outputs": [
    {
     "name": "stdout",
     "output_type": "stream",
     "text": [
      "[[[1.75010216 1.92831493 1.83173651 1.22210927 1.12107516]\n",
      "  [1.86822744 1.68589396 1.22941082 1.66468302 1.34050242]\n",
      "  [1.04817178 1.38245809 1.95910295 1.28867581 1.8139714 ]]\n",
      "\n",
      " [[1.31864327 1.00989033 1.18704768 1.82437382 1.63646677]\n",
      "  [1.65621358 1.66810585 1.81810086 1.58559326 1.37026343]\n",
      "  [1.79991724 1.8390663  1.47387651 1.08259352 1.6904948 ]]]\n"
     ]
    },
    {
     "data": {
      "text/plain": [
       "(2, 3, 5)"
      ]
     },
     "execution_count": 92,
     "metadata": {},
     "output_type": "execute_result"
    }
   ],
   "source": [
    "\n",
    "print(d)\n",
    "d.shape"
   ]
  },
  {
   "cell_type": "code",
   "execution_count": 97,
   "metadata": {},
   "outputs": [
    {
     "name": "stdout",
     "output_type": "stream",
     "text": [
      "[[[ 75.  75.  75.  25.  25.]\n",
      "  [ 75.  75.  25.  75.  25.]\n",
      "  [ 25.  25. 100.  25.  75.]]\n",
      "\n",
      " [[ 25.   0.  25.  75.  75.]\n",
      "  [ 75.  75.  75.  75.  25.]\n",
      "  [ 75.  75.  25.  25.  75.]]]\n"
     ]
    }
   ],
   "source": [
    "aux1 = 0\n",
    "aux2 = 0\n",
    "aux3 = 0\n",
    "for first in d:        \n",
    "    aux2 = 0\n",
    "    for second in first:\n",
    "        aux3 = 0\n",
    "        for x in second:           \n",
    "            \n",
    "            if x == d_min:\n",
    "                f[aux1][aux2][aux3] = \"A\"\n",
    "            elif x == d_max:\n",
    "                f[aux1][aux2][aux3] = \"E\"\n",
    "            elif x == d_mean:\n",
    "                f[aux1][aux2][aux3] = \"C\"\n",
    "            elif x >= d_mean:\n",
    "                f[aux1][aux2][aux3] = \"D\"\n",
    "            else:\n",
    "                f[aux1][aux2][aux3] = \"B\"\n",
    "            \n",
    "            aux3 +=1\n",
    "            \n",
    "            \n",
    "    \n",
    "        aux2 +=1\n",
    "    \n",
    "    aux1 += 1  \n"
   ]
  },
  {
   "cell_type": "code",
   "execution_count": 73,
   "metadata": {},
   "outputs": [
    {
     "ename": "TypeError",
     "evalue": "append() missing 1 required positional argument: 'values'",
     "output_type": "error",
     "traceback": [
      "\u001b[0;31m---------------------------------------------------------------------------\u001b[0m",
      "\u001b[0;31mTypeError\u001b[0m                                 Traceback (most recent call last)",
      "\u001b[0;32m<ipython-input-73-61e0113aa629>\u001b[0m in \u001b[0;36m<module>\u001b[0;34m\u001b[0m\n\u001b[1;32m      7\u001b[0m         \u001b[0mf\u001b[0m \u001b[0;34m=\u001b[0m \u001b[0mnp\u001b[0m\u001b[0;34m.\u001b[0m\u001b[0mappend\u001b[0m\u001b[0;34m(\u001b[0m\u001b[0;36m50\u001b[0m\u001b[0;34m,\u001b[0m \u001b[0maxis\u001b[0m\u001b[0;34m=\u001b[0m\u001b[0;36m0\u001b[0m\u001b[0;34m)\u001b[0m\u001b[0;34m\u001b[0m\u001b[0;34m\u001b[0m\u001b[0m\n\u001b[1;32m      8\u001b[0m     \u001b[0;32melif\u001b[0m \u001b[0mx\u001b[0m \u001b[0;34m>=\u001b[0m \u001b[0md_mean\u001b[0m \u001b[0;32mand\u001b[0m \u001b[0mx\u001b[0m \u001b[0;34m<=\u001b[0m \u001b[0md_max\u001b[0m\u001b[0;34m:\u001b[0m\u001b[0;34m\u001b[0m\u001b[0;34m\u001b[0m\u001b[0m\n\u001b[0;32m----> 9\u001b[0;31m         \u001b[0mf\u001b[0m \u001b[0;34m=\u001b[0m \u001b[0mnp\u001b[0m\u001b[0;34m.\u001b[0m\u001b[0mappend\u001b[0m\u001b[0;34m(\u001b[0m\u001b[0;36m75\u001b[0m\u001b[0;34m,\u001b[0m \u001b[0maxis\u001b[0m\u001b[0;34m=\u001b[0m\u001b[0;36m0\u001b[0m\u001b[0;34m)\u001b[0m\u001b[0;34m\u001b[0m\u001b[0;34m\u001b[0m\u001b[0m\n\u001b[0m\u001b[1;32m     10\u001b[0m     \u001b[0;32melif\u001b[0m \u001b[0mx\u001b[0m \u001b[0;34m>=\u001b[0m \u001b[0md_min\u001b[0m \u001b[0;32mand\u001b[0m \u001b[0mx\u001b[0m \u001b[0;34m<=\u001b[0m \u001b[0md_mean\u001b[0m\u001b[0;34m:\u001b[0m\u001b[0;34m\u001b[0m\u001b[0;34m\u001b[0m\u001b[0m\n\u001b[1;32m     11\u001b[0m         \u001b[0mf\u001b[0m \u001b[0;34m=\u001b[0m \u001b[0mnp\u001b[0m\u001b[0;34m.\u001b[0m\u001b[0mappend\u001b[0m\u001b[0;34m(\u001b[0m\u001b[0;36m25\u001b[0m\u001b[0;34m,\u001b[0m \u001b[0maxis\u001b[0m\u001b[0;34m=\u001b[0m\u001b[0;36m0\u001b[0m\u001b[0;34m)\u001b[0m\u001b[0;34m\u001b[0m\u001b[0;34m\u001b[0m\u001b[0m\n",
      "\u001b[0;31mTypeError\u001b[0m: append() missing 1 required positional argument: 'values'"
     ]
    }
   ],
   "source": [
    "for x in np.nditer(d):\n",
    "    if x == d_min:\n",
    "        f = np.append(f, [0], axis=0)\n",
    "    elif x == d_max:\n",
    "        f = np.append(f, [100], axis=0)\n",
    "        "
   ]
  },
  {
   "cell_type": "code",
   "execution_count": 79,
   "metadata": {},
   "outputs": [
    {
     "name": "stdout",
     "output_type": "stream",
     "text": [
      "[[[0.         0.92831493 0.83173651 0.22210927 0.12107516]\n",
      "  [0.86822744 0.68589396 0.22941082 0.66468302 0.34050242]\n",
      "  [0.04817178 0.38245809 0.95910295 0.28867581 0.8139714 ]]\n",
      "\n",
      " [[0.31864327 0.00989033 0.18704768 0.82437382 0.63646677]\n",
      "  [0.65621358 0.66810585 0.81810086 0.58559326 0.37026343]\n",
      "  [0.79991724 0.8390663  0.47387651 0.08259352 0.6904948 ]]]\n"
     ]
    }
   ],
   "source": [
    "f[0][0][0] = 0\n"
   ]
  },
  {
   "cell_type": "code",
   "execution_count": 98,
   "metadata": {},
   "outputs": [
    {
     "name": "stdout",
     "output_type": "stream",
     "text": [
      "[[[1.75010216 1.92831493 1.83173651 1.22210927 1.12107516]\n",
      "  [1.86822744 1.68589396 1.22941082 1.66468302 1.34050242]\n",
      "  [1.04817178 1.38245809 1.95910295 1.28867581 1.8139714 ]]\n",
      "\n",
      " [[1.31864327 1.00989033 1.18704768 1.82437382 1.63646677]\n",
      "  [1.65621358 1.66810585 1.81810086 1.58559326 1.37026343]\n",
      "  [1.79991724 1.8390663  1.47387651 1.08259352 1.6904948 ]]]\n",
      "[[[ 75.  75.  75.  25.  25.]\n",
      "  [ 75.  75.  25.  75.  25.]\n",
      "  [ 25.  25. 100.  25.  75.]]\n",
      "\n",
      " [[ 25.   0.  25.  75.  75.]\n",
      "  [ 75.  75.  75.  75.  25.]\n",
      "  [ 75.  75.  25.  25.  75.]]]\n"
     ]
    }
   ],
   "source": [
    "print(d)\n",
    "print(f)"
   ]
  },
  {
   "cell_type": "code",
   "execution_count": 99,
   "metadata": {},
   "outputs": [
    {
     "ename": "ValueError",
     "evalue": "could not convert string to float: 'D'",
     "output_type": "error",
     "traceback": [
      "\u001b[0;31m---------------------------------------------------------------------------\u001b[0m",
      "\u001b[0;31mValueError\u001b[0m                                Traceback (most recent call last)",
      "\u001b[0;32m<ipython-input-99-89310832c6ae>\u001b[0m in \u001b[0;36m<module>\u001b[0;34m\u001b[0m\n\u001b[1;32m     15\u001b[0m                 \u001b[0mf\u001b[0m\u001b[0;34m[\u001b[0m\u001b[0maux1\u001b[0m\u001b[0;34m]\u001b[0m\u001b[0;34m[\u001b[0m\u001b[0maux2\u001b[0m\u001b[0;34m]\u001b[0m\u001b[0;34m[\u001b[0m\u001b[0maux3\u001b[0m\u001b[0;34m]\u001b[0m \u001b[0;34m=\u001b[0m \u001b[0;34m\"C\"\u001b[0m\u001b[0;34m\u001b[0m\u001b[0;34m\u001b[0m\u001b[0m\n\u001b[1;32m     16\u001b[0m             \u001b[0;32melif\u001b[0m \u001b[0mx\u001b[0m \u001b[0;34m>=\u001b[0m \u001b[0md_mean\u001b[0m\u001b[0;34m:\u001b[0m\u001b[0;34m\u001b[0m\u001b[0;34m\u001b[0m\u001b[0m\n\u001b[0;32m---> 17\u001b[0;31m                 \u001b[0mf\u001b[0m\u001b[0;34m[\u001b[0m\u001b[0maux1\u001b[0m\u001b[0;34m]\u001b[0m\u001b[0;34m[\u001b[0m\u001b[0maux2\u001b[0m\u001b[0;34m]\u001b[0m\u001b[0;34m[\u001b[0m\u001b[0maux3\u001b[0m\u001b[0;34m]\u001b[0m \u001b[0;34m=\u001b[0m \u001b[0;34m\"D\"\u001b[0m\u001b[0;34m\u001b[0m\u001b[0;34m\u001b[0m\u001b[0m\n\u001b[0m\u001b[1;32m     18\u001b[0m             \u001b[0;32melse\u001b[0m\u001b[0;34m:\u001b[0m\u001b[0;34m\u001b[0m\u001b[0;34m\u001b[0m\u001b[0m\n\u001b[1;32m     19\u001b[0m                 \u001b[0mf\u001b[0m\u001b[0;34m[\u001b[0m\u001b[0maux1\u001b[0m\u001b[0;34m]\u001b[0m\u001b[0;34m[\u001b[0m\u001b[0maux2\u001b[0m\u001b[0;34m]\u001b[0m\u001b[0;34m[\u001b[0m\u001b[0maux3\u001b[0m\u001b[0;34m]\u001b[0m \u001b[0;34m=\u001b[0m \u001b[0;34m\"B\"\u001b[0m\u001b[0;34m\u001b[0m\u001b[0;34m\u001b[0m\u001b[0m\n",
      "\u001b[0;31mValueError\u001b[0m: could not convert string to float: 'D'"
     ]
    }
   ],
   "source": [
    "aux1 = 0\n",
    "aux2 = 0\n",
    "aux3 = 0\n",
    "for first in d:        \n",
    "    aux2 = 0\n",
    "    for second in first:\n",
    "        aux3 = 0\n",
    "        for x in second:           \n",
    "            \n",
    "            if x == d_min:\n",
    "                f[aux1][aux2][aux3] = \"A\"\n",
    "            elif x == d_max:\n",
    "                f[aux1][aux2][aux3] = \"E\"\n",
    "            elif x == d_mean:\n",
    "                f[aux1][aux2][aux3] = \"C\"\n",
    "            elif x >= d_mean:\n",
    "                f[aux1][aux2][aux3] = \"D\"\n",
    "            else:\n",
    "                f[aux1][aux2][aux3] = \"B\"\n",
    "            \n",
    "            aux3 +=1\n",
    "            \n",
    "            \n",
    "    \n",
    "        aux2 +=1\n",
    "    \n",
    "    aux1 += 1  "
   ]
  },
  {
   "cell_type": "code",
   "execution_count": null,
   "metadata": {},
   "outputs": [],
   "source": []
  }
 ],
 "metadata": {
  "kernelspec": {
   "display_name": "Python 3",
   "language": "python",
   "name": "python3"
  },
  "language_info": {
   "codemirror_mode": {
    "name": "ipython",
    "version": 3
   },
   "file_extension": ".py",
   "mimetype": "text/x-python",
   "name": "python",
   "nbconvert_exporter": "python",
   "pygments_lexer": "ipython3",
   "version": "3.6.7"
  }
 },
 "nbformat": 4,
 "nbformat_minor": 2
}
