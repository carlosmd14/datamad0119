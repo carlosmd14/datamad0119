{
 "cells": [
  {
   "cell_type": "code",
   "execution_count": 1,
   "metadata": {},
   "outputs": [],
   "source": [
    "import random"
   ]
  },
  {
   "cell_type": "code",
   "execution_count": 2,
   "metadata": {},
   "outputs": [],
   "source": [
    "sample_list_1 = random.sample(range(0,101),80)"
   ]
  },
  {
   "cell_type": "code",
   "execution_count": 3,
   "metadata": {},
   "outputs": [
    {
     "name": "stdout",
     "output_type": "stream",
     "text": [
      "[12, 2, 11, 38, 4, 35, 40, 50, 37, 87, 28, 100, 64, 18, 44, 3, 19, 90, 26, 41, 85, 75, 68, 88, 65, 91, 66, 29, 21, 5, 92, 39, 84, 73, 14, 61, 42, 98, 63, 32, 97, 17, 13, 49, 0, 33, 72, 52, 70, 22, 47, 16, 82, 76, 71, 53, 25, 69, 55, 34, 59, 8, 46, 45, 58, 99, 43, 62, 89, 86, 94, 83, 7, 48, 79, 15, 54, 9, 24, 6]\n"
     ]
    }
   ],
   "source": [
    "print(sample_list_1)"
   ]
  },
  {
   "cell_type": "code",
   "execution_count": 5,
   "metadata": {},
   "outputs": [
    {
     "name": "stdout",
     "output_type": "stream",
     "text": [
      "80\n"
     ]
    }
   ],
   "source": [
    "set1 = set(sample_list_1)\n",
    "print(len(set1))\n"
   ]
  },
  {
   "cell_type": "code",
   "execution_count": 8,
   "metadata": {},
   "outputs": [
    {
     "name": "stdout",
     "output_type": "stream",
     "text": [
      "[58, 20, 88, 38, 99, 66, 82, 24, 23, 31, 79, 30, 61, 92, 3, 67, 61, 33, 2, 6, 48, 2, 12, 83, 49, 25, 22, 87, 35, 22, 76, 50, 67, 8, 65, 16, 1, 92, 10, 50, 38, 91, 61, 65, 60, 6, 24, 10, 20, 26, 21, 75, 31, 15, 60, 2, 8, 24, 90, 45, 99, 38, 17, 30, 87, 58, 37, 63, 69, 69, 33, 84, 73, 42, 87, 62, 6, 32, 6, 54]\n"
     ]
    }
   ],
   "source": [
    "sample_list_2 = []\n",
    "\n",
    "for x in range(0,80):\n",
    "    sample_list_2 += random.sample(range(0,101),1)\n",
    "\n",
    "print(sample_list_2)"
   ]
  },
  {
   "cell_type": "code",
   "execution_count": 9,
   "metadata": {},
   "outputs": [
    {
     "name": "stdout",
     "output_type": "stream",
     "text": [
      "52\n"
     ]
    }
   ],
   "source": [
    "set2 = set(sample_list_2)\n",
    "print(len(set2))"
   ]
  },
  {
   "cell_type": "code",
   "execution_count": 19,
   "metadata": {},
   "outputs": [
    {
     "name": "stdout",
     "output_type": "stream",
     "text": [
      "{0, 4, 5, 7, 9, 11, 13, 14, 18, 19, 28, 29, 34, 39, 40, 41, 43, 44, 46, 47, 52, 53, 55, 59, 64, 68, 70, 71, 72, 85, 86, 89, 94, 97, 98, 100}\n"
     ]
    }
   ],
   "source": [
    "set3 = set()\n",
    "for e in set1:\n",
    "    if not(e in set2):\n",
    "        set3.add(e)\n",
    "print(set3)\n",
    "        "
   ]
  },
  {
   "cell_type": "code",
   "execution_count": 12,
   "metadata": {},
   "outputs": [
    {
     "name": "stdout",
     "output_type": "stream",
     "text": [
      "36\n"
     ]
    }
   ],
   "source": [
    "print(len(set3))"
   ]
  },
  {
   "cell_type": "code",
   "execution_count": 16,
   "metadata": {},
   "outputs": [
    {
     "name": "stdout",
     "output_type": "stream",
     "text": [
      "{0, 2, 3, 4, 5, 6, 7, 8, 9, 11, 12, 13, 14, 15, 16, 17, 18, 19, 21, 22, 24, 25, 26, 28, 29, 32, 33, 34, 35, 37, 38, 39, 40, 41, 42, 43, 44, 45, 46, 47, 48, 49, 50, 52, 53, 54, 55, 58, 59, 61, 62, 63, 64, 65, 66, 68, 69, 70, 71, 72, 73, 75, 76, 79, 82, 83, 84, 85, 86, 87, 88, 89, 90, 91, 92, 94, 97, 98, 99, 100}\n",
      "{1, 2, 3, 6, 8, 10, 12, 15, 16, 17, 20, 21, 22, 23, 24, 25, 26, 30, 31, 32, 33, 35, 37, 38, 42, 45, 48, 49, 50, 54, 58, 60, 61, 62, 63, 65, 66, 67, 69, 73, 75, 76, 79, 82, 83, 84, 87, 88, 90, 91, 92, 99}\n",
      "{0, 4, 5, 7, 9, 11, 13, 14, 18, 19, 28, 29, 34, 39, 40, 41, 43, 44, 46, 47, 52, 53, 55, 59, 64, 68, 70, 71, 72, 85, 86, 89, 94, 97, 98, 100}\n"
     ]
    }
   ],
   "source": [
    "print(set1)\n",
    "\n",
    "print(set2)\n",
    "\n",
    "print(set3)"
   ]
  },
  {
   "cell_type": "code",
   "execution_count": 20,
   "metadata": {},
   "outputs": [
    {
     "name": "stdout",
     "output_type": "stream",
     "text": [
      "{2, 3, 6, 8, 12, 15, 16, 17, 21, 22, 24, 25, 26, 32, 33, 35, 37, 38, 42, 45, 48, 49, 50, 54, 58, 61, 62, 63, 65, 66, 69, 73, 75, 76, 79, 82, 83, 84, 87, 88, 90, 91, 92, 99}\n"
     ]
    }
   ],
   "source": [
    "set5 = set()\n",
    "for e in set2:\n",
    "    if e in set1:\n",
    "        set5.add(e)\n",
    "print(set5)"
   ]
  },
  {
   "cell_type": "code",
   "execution_count": 22,
   "metadata": {},
   "outputs": [
    {
     "name": "stdout",
     "output_type": "stream",
     "text": [
      "80\n",
      "52\n",
      "36\n",
      "8\n",
      "44\n"
     ]
    }
   ],
   "source": [
    "print(len(set1))\n",
    "print(len(set2))\n",
    "print(len(set3))\n",
    "print(len(set4))\n",
    "print(len(set5))\n"
   ]
  },
  {
   "cell_type": "code",
   "execution_count": 23,
   "metadata": {},
   "outputs": [],
   "source": [
    "set6 = set()"
   ]
  },
  {
   "cell_type": "code",
   "execution_count": 24,
   "metadata": {},
   "outputs": [
    {
     "name": "stdout",
     "output_type": "stream",
     "text": [
      "{0, 2, 3, 4, 5, 6, 7, 8, 9, 11, 12, 13, 14, 15, 16, 17, 18, 19, 21, 22, 24, 25, 26, 28, 29, 32, 33, 34, 35, 37, 38, 39, 40, 41, 42, 43, 44, 45, 46, 47, 48, 49, 50, 52, 53, 54, 55, 58, 59, 61, 62, 63, 64, 65, 66, 68, 69, 70, 71, 72, 73, 75, 76, 79, 82, 83, 84, 85, 86, 87, 88, 89, 90, 91, 92, 94, 97, 98, 99, 100}\n"
     ]
    }
   ],
   "source": [
    "set6.update(set3,set5)\n",
    "print(set6)"
   ]
  },
  {
   "cell_type": "code",
   "execution_count": 25,
   "metadata": {},
   "outputs": [
    {
     "name": "stdout",
     "output_type": "stream",
     "text": [
      "{0, 4, 5, 7, 9, 11, 13, 14, 18, 19, 28, 29, 34, 39, 40, 41, 43, 44, 46, 47, 52, 53, 55, 59, 64, 68, 70, 71, 72, 85, 86, 89, 94, 97, 98, 100}\n",
      "{2, 3, 6, 8, 12, 15, 16, 17, 21, 22, 24, 25, 26, 32, 33, 35, 37, 38, 42, 45, 48, 49, 50, 54, 58, 61, 62, 63, 65, 66, 69, 73, 75, 76, 79, 82, 83, 84, 87, 88, 90, 91, 92, 99}\n"
     ]
    }
   ],
   "source": [
    "print(set3)\n",
    "print(set5)"
   ]
  },
  {
   "cell_type": "code",
   "execution_count": 28,
   "metadata": {},
   "outputs": [
    {
     "name": "stdout",
     "output_type": "stream",
     "text": [
      "Son iguales\n"
     ]
    }
   ],
   "source": [
    "aux = 0\n",
    "for e in set1:\n",
    "    if not(e in set6):\n",
    "        aux += 1\n",
    "if aux:\n",
    "    print(\"No son iguales\")\n",
    "else:\n",
    "    print(\"Son iguales\")"
   ]
  },
  {
   "cell_type": "code",
   "execution_count": 29,
   "metadata": {},
   "outputs": [
    {
     "data": {
      "text/plain": [
       "True"
      ]
     },
     "execution_count": 29,
     "metadata": {},
     "output_type": "execute_result"
    }
   ],
   "source": [
    "set3 == set1 - set1.intersection(set2)"
   ]
  },
  {
   "cell_type": "code",
   "execution_count": 30,
   "metadata": {},
   "outputs": [
    {
     "data": {
      "text/plain": [
       "True"
      ]
     },
     "execution_count": 30,
     "metadata": {},
     "output_type": "execute_result"
    }
   ],
   "source": [
    "set4 == set2 - set2.intersection(set1)"
   ]
  },
  {
   "cell_type": "code",
   "execution_count": 31,
   "metadata": {},
   "outputs": [
    {
     "data": {
      "text/plain": [
       "True"
      ]
     },
     "execution_count": 31,
     "metadata": {},
     "output_type": "execute_result"
    }
   ],
   "source": [
    "set5 == set1.intersection(set2)"
   ]
  },
  {
   "cell_type": "code",
   "execution_count": 32,
   "metadata": {},
   "outputs": [
    {
     "data": {
      "text/plain": [
       "False"
      ]
     },
     "execution_count": 32,
     "metadata": {},
     "output_type": "execute_result"
    }
   ],
   "source": [
    "set2.issubset(set1)"
   ]
  },
  {
   "cell_type": "code",
   "execution_count": 33,
   "metadata": {},
   "outputs": [
    {
     "data": {
      "text/plain": [
       "True"
      ]
     },
     "execution_count": 33,
     "metadata": {},
     "output_type": "execute_result"
    }
   ],
   "source": [
    "set3.issubset(set1)"
   ]
  },
  {
   "cell_type": "code",
   "execution_count": 34,
   "metadata": {},
   "outputs": [],
   "source": [
    "set345 = set3.union(set4, set5)"
   ]
  },
  {
   "cell_type": "code",
   "execution_count": 35,
   "metadata": {},
   "outputs": [],
   "source": [
    "set12 = set1.union(set2)"
   ]
  },
  {
   "cell_type": "code",
   "execution_count": 37,
   "metadata": {},
   "outputs": [
    {
     "name": "stdout",
     "output_type": "stream",
     "text": [
      "{0, 1, 2, 3, 4, 5, 6, 7, 8, 9, 10, 11, 12, 13, 14, 15, 16, 17, 18, 19, 20, 21, 22, 23, 24, 25, 26, 28, 29, 30, 31, 32, 33, 34, 35, 37, 38, 39, 40, 41, 42, 43, 44, 45, 46, 47, 48, 49, 50, 52, 53, 54, 55, 58, 59, 60, 61, 62, 63, 64, 65, 66, 67, 68, 69, 70, 71, 72, 73, 75, 76, 79, 82, 83, 84, 85, 86, 87, 88, 89, 90, 91, 92, 94, 97, 98, 99, 100}\n"
     ]
    }
   ],
   "source": [
    "print(set345)"
   ]
  },
  {
   "cell_type": "code",
   "execution_count": 39,
   "metadata": {},
   "outputs": [
    {
     "name": "stdout",
     "output_type": "stream",
     "text": [
      "[2, 11, 38, 4, 35, 40, 50, 37, 87, 28, 100, 64, 18, 44, 3, 19, 90, 26, 41, 85, 75, 68, 88, 65, 91, 66, 29, 21, 5, 92, 39, 84, 73, 14, 61, 42, 98, 63, 32, 97, 17, 13, 49, 0, 33, 72, 52, 70, 22, 47, 16, 82, 76, 71, 53, 25, 69, 55, 34, 59, 8, 46, 45, 58, 99, 43, 62, 89, 86, 94, 83, 7, 48, 79, 15, 54, 9, 24, 6]\n"
     ]
    }
   ],
   "source": [
    "sample_list_1.pop(0)\n",
    "print(sample_list_1)"
   ]
  },
  {
   "cell_type": "code",
   "execution_count": 41,
   "metadata": {},
   "outputs": [
    {
     "name": "stdout",
     "output_type": "stream",
     "text": [
      "{2, 3, 4, 5, 6, 7, 8, 9, 11, 12, 13, 14, 15, 16, 17, 18, 19, 21, 22, 24, 25, 26, 28, 29, 32, 33, 34, 35, 37, 38, 39, 40, 41, 42, 43, 44, 45, 46, 47, 48, 49, 50, 52, 53, 54, 55, 58, 59, 61, 62, 63, 64, 65, 66, 68, 69, 70, 71, 72, 73, 75, 76, 79, 82, 83, 84, 85, 86, 87, 88, 89, 90, 91, 92, 94, 97, 98, 99, 100}\n"
     ]
    }
   ],
   "source": [
    "set1.remove(0)\n",
    "print(set1)"
   ]
  },
  {
   "cell_type": "code",
   "execution_count": 42,
   "metadata": {},
   "outputs": [],
   "source": [
    "list_to_remove = [1, 9, 11, 19, 21, 29, 31, 39, 41, 49, 51, 59, 61, 69, 71, 79, 81, 89, 91, 99]"
   ]
  },
  {
   "cell_type": "code",
   "execution_count": null,
   "metadata": {},
   "outputs": [],
   "source": [
    "for e in list_to_remove:\n",
    "    if e in set1:\n",
    "        set1.remove(e)\n",
    "    else:\n",
    "        "
   ]
  }
 ],
 "metadata": {
  "kernelspec": {
   "display_name": "Python 3",
   "language": "python",
   "name": "python3"
  },
  "language_info": {
   "codemirror_mode": {
    "name": "ipython",
    "version": 3
   },
   "file_extension": ".py",
   "mimetype": "text/x-python",
   "name": "python",
   "nbconvert_exporter": "python",
   "pygments_lexer": "ipython3",
   "version": "3.6.7"
  }
 },
 "nbformat": 4,
 "nbformat_minor": 2
}
