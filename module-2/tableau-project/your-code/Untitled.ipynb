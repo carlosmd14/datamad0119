{
 "cells": [
  {
   "cell_type": "code",
   "execution_count": 12,
   "metadata": {},
   "outputs": [],
   "source": [
    "import pandas as pd\n",
    "import pymongo"
   ]
  },
  {
   "cell_type": "code",
   "execution_count": 10,
   "metadata": {},
   "outputs": [],
   "source": [
    "MongoClient = pymongo.MongoClient\n",
    "client = MongoClient()\n",
    "db = client.companies"
   ]
  },
  {
   "cell_type": "markdown",
   "metadata": {},
   "source": [
    "## Reviso cuáles son todas las categorías, para quedarme con las que necesito."
   ]
  },
  {
   "cell_type": "code",
   "execution_count": 22,
   "metadata": {},
   "outputs": [
    {
     "name": "stdout",
     "output_type": "stream",
     "text": [
      "['enterprise', 'web', 'software', 'news', 'network_hosting', 'games_video', 'social', 'music', 'mobile', 'search', 'advertising', 'messaging', 'photo_video', 'finance', 'security', 'ecommerce', 'hardware', 'travel', 'public_relations', 'other', 'real_estate', 'semiconductor', 'analytics', 'health', 'legal', 'sports', 'biotech', 'cleantech', 'education', 'consulting', 'transportation', None, 'hospitality', 'fashion', 'nanotech', 'nonprofit', 'automotive', 'design', 'manufacturing', 'government', 'local', 'medical']\n"
     ]
    }
   ],
   "source": [
    "cursor = db.companies.find({'category_code':{'$exists': 'true'}})\n",
    "categories = list(map(lambda r:r['category_code'], list(cursor)))\n",
    "\n",
    "category_codes = []\n",
    "for i in categories:\n",
    "    if i not in category_codes:\n",
    "        category_codes.append(i)\n",
    "    else:\n",
    "        pass\n",
    "print(category_codes)"
   ]
  },
  {
   "cell_type": "markdown",
   "metadata": {},
   "source": [
    "## Creo un nuevo Json con las coordenadas en el formato adecuado, y con las compañías filtradas por número de empleados, año de fundación, que no hayan sido deadpooled y por las categorías que me convienen."
   ]
  },
  {
   "cell_type": "code",
   "execution_count": 67,
   "metadata": {},
   "outputs": [],
   "source": [
    "def toGeoJSON(lista):\n",
    "    return {\n",
    "            \"type\": \"Point\",\n",
    "            \"coordinates\":[lista[1],lista[0]]\n",
    "        }\n",
    "\n",
    "def convertCompany(company):\n",
    "    dictList = []\n",
    "    for index in range(len(company['offices'])):\n",
    "        for key in company['offices']:\n",
    "            if key['latitude'] != None and key['longitude'] != None:\n",
    "                fields = {\n",
    "                \"name\": company[\"name\"],\n",
    "                \"category_code\": company[\"category_code\"],\n",
    "                \"number_of_employees\": company[\"number_of_employees\"],\n",
    "                \"founded_year\": company[\"founded_year\"],\n",
    "                \"position\": toGeoJSON([key['latitude'],key['longitude']])   \n",
    "                }\n",
    "                dictList.append(fields)\n",
    "        return dictList\n",
    "\n",
    "cursor = db.companies.find({ \"$and\": [ { \"offices.latitude\": {\"$exists\": True} },{ \"offices.longitude\": {\"$exists\": True} }, {\"founded_year\" : {\"$gte\": 2003} }, {'deadpooled_year': {'$type': 10} }, {'number_of_employees' : {\"$gte\": 50} } , { '$or': [ {'category_code': 'web'}, {'category_code':'software'}, {'category_code':'mobile'},{'category_code': 'analytics'}, {'category_code': 'games_video'}, {'category_code':'ecommerce'}, {'category_code':'enterprise'},{'category_code':'finance'} ] } ] })\n",
    "\n",
    "geoList = list(map(lambda r: convertCompany(r),cursor))\n",
    "geoCompanies = [element for lista in geoList for element in lista]"
   ]
  },
  {
   "cell_type": "markdown",
   "metadata": {},
   "source": [
    "## DataFrame correspondiente al database recién creado."
   ]
  },
  {
   "cell_type": "code",
   "execution_count": 72,
   "metadata": {},
   "outputs": [
    {
     "data": {
      "text/html": [
       "<div>\n",
       "<style scoped>\n",
       "    .dataframe tbody tr th:only-of-type {\n",
       "        vertical-align: middle;\n",
       "    }\n",
       "\n",
       "    .dataframe tbody tr th {\n",
       "        vertical-align: top;\n",
       "    }\n",
       "\n",
       "    .dataframe thead th {\n",
       "        text-align: right;\n",
       "    }\n",
       "</style>\n",
       "<table border=\"1\" class=\"dataframe\">\n",
       "  <thead>\n",
       "    <tr style=\"text-align: right;\">\n",
       "      <th></th>\n",
       "      <th>category_code</th>\n",
       "      <th>founded_year</th>\n",
       "      <th>name</th>\n",
       "      <th>number_of_employees</th>\n",
       "      <th>position</th>\n",
       "    </tr>\n",
       "  </thead>\n",
       "  <tbody>\n",
       "    <tr>\n",
       "      <th>0</th>\n",
       "      <td>mobile</td>\n",
       "      <td>2005</td>\n",
       "      <td>Jajah</td>\n",
       "      <td>110</td>\n",
       "      <td>{'type': 'Point', 'coordinates': [-122.0899512...</td>\n",
       "    </tr>\n",
       "    <tr>\n",
       "      <th>1</th>\n",
       "      <td>games_video</td>\n",
       "      <td>2007</td>\n",
       "      <td>Livestream</td>\n",
       "      <td>120</td>\n",
       "      <td>{'type': 'Point', 'coordinates': [-73.995625, ...</td>\n",
       "    </tr>\n",
       "    <tr>\n",
       "      <th>2</th>\n",
       "      <td>games_video</td>\n",
       "      <td>2007</td>\n",
       "      <td>Ustream</td>\n",
       "      <td>250</td>\n",
       "      <td>{'type': 'Point', 'coordinates': [-122.07948, ...</td>\n",
       "    </tr>\n",
       "    <tr>\n",
       "      <th>3</th>\n",
       "      <td>enterprise</td>\n",
       "      <td>2004</td>\n",
       "      <td>KickApps</td>\n",
       "      <td>72</td>\n",
       "      <td>{'type': 'Point', 'coordinates': [-73.9843328,...</td>\n",
       "    </tr>\n",
       "    <tr>\n",
       "      <th>7</th>\n",
       "      <td>games_video</td>\n",
       "      <td>2005</td>\n",
       "      <td>RockYou</td>\n",
       "      <td>106</td>\n",
       "      <td>{'type': 'Point', 'coordinates': [-122.206893,...</td>\n",
       "    </tr>\n",
       "  </tbody>\n",
       "</table>\n",
       "</div>"
      ],
      "text/plain": [
       "  category_code  founded_year        name  number_of_employees  \\\n",
       "0        mobile          2005       Jajah                  110   \n",
       "1   games_video          2007  Livestream                  120   \n",
       "2   games_video          2007     Ustream                  250   \n",
       "3    enterprise          2004    KickApps                   72   \n",
       "7   games_video          2005     RockYou                  106   \n",
       "\n",
       "                                            position  \n",
       "0  {'type': 'Point', 'coordinates': [-122.0899512...  \n",
       "1  {'type': 'Point', 'coordinates': [-73.995625, ...  \n",
       "2  {'type': 'Point', 'coordinates': [-122.07948, ...  \n",
       "3  {'type': 'Point', 'coordinates': [-73.9843328,...  \n",
       "7  {'type': 'Point', 'coordinates': [-122.206893,...  "
      ]
     },
     "execution_count": 72,
     "metadata": {},
     "output_type": "execute_result"
    }
   ],
   "source": [
    "df = pd.DataFrame(geoCompanies)\n",
    "df = df.drop_duplicates(subset='name')\n",
    "df.head()"
   ]
  },
  {
   "cell_type": "markdown",
   "metadata": {},
   "source": [
    "## Guardo en formato json la nueva colección con las compañías que me interesan y con las coordenadas correctas."
   ]
  },
  {
   "cell_type": "code",
   "execution_count": 73,
   "metadata": {},
   "outputs": [],
   "source": [
    "df.to_json(\"comp_with_coords.json\", orient=\"records\", lines=True)"
   ]
  },
  {
   "cell_type": "markdown",
   "metadata": {},
   "source": [
    "## Recorro la ubicación de cada compañía para ver cuántas empresas tiene a 1000 metros a la redonda, y luego verifico cuántas tienen más, para usar ese número más adelante para quedarme solo con las que más compañías tienen a su alrededor."
   ]
  },
  {
   "cell_type": "code",
   "execution_count": 180,
   "metadata": {},
   "outputs": [
    {
     "name": "stderr",
     "output_type": "stream",
     "text": [
      "/home/carlosmd14/.local/lib/python3.6/site-packages/ipykernel_launcher.py:18: DeprecationWarning: count is deprecated. Use Collection.count_documents instead.\n"
     ]
    },
    {
     "data": {
      "text/plain": [
       "[18, 18]"
      ]
     },
     "execution_count": 180,
     "metadata": {},
     "output_type": "execute_result"
    }
   ],
   "source": [
    "cursor = db.comp_coords.find()\n",
    "maxCount = []\n",
    "for company in cursor:\n",
    "\n",
    "    cursor2 = db.comp_coords.find({\n",
    "      \"position\": {\n",
    "        \"$near\": {\n",
    "          \"$geometry\": {\n",
    "            \"type\": \"Point\",\n",
    "            \"coordinates\": [company['position']['coordinates'][0], company['position']['coordinates'][1]]\n",
    "          },\n",
    "          \"$minDistance\": 0,\n",
    "          \"$maxDistance\":1000\n",
    "        }\n",
    "      }\n",
    "    })\n",
    "\n",
    "    maxCount.append(cursor2.count())\n",
    "    \n",
    "list(filter(lambda x: x == max(maxCount), maxCount))"
   ]
  },
  {
   "cell_type": "markdown",
   "metadata": {},
   "source": [
    "## Al saber que las que más compañías tienen alrededor tienen 18 compañías, guardo en una lista solo aquellas que tienen 18 compañías alrededor."
   ]
  },
  {
   "cell_type": "code",
   "execution_count": 178,
   "metadata": {},
   "outputs": [
    {
     "name": "stderr",
     "output_type": "stream",
     "text": [
      "/home/carlosmd14/.local/lib/python3.6/site-packages/ipykernel_launcher.py:18: DeprecationWarning: count is deprecated. Use Collection.count_documents instead.\n"
     ]
    }
   ],
   "source": [
    "cursor = db.comp_coords.find()\n",
    "companies = []\n",
    "for company in cursor:\n",
    "\n",
    "    cursor2 = db.comp_coords.find({\n",
    "      \"position\": {\n",
    "        \"$near\": {\n",
    "          \"$geometry\": {\n",
    "            \"type\": \"Point\",\n",
    "            \"coordinates\": [company['position']['coordinates'][0], company['position']['coordinates'][1]]\n",
    "          },\n",
    "          \"$minDistance\": 0,\n",
    "          \"$maxDistance\":1000\n",
    "        }\n",
    "      }\n",
    "    })\n",
    "    \n",
    "    if cursor2.count() == 18:\n",
    "        companies.append(company)\n"
   ]
  },
  {
   "cell_type": "markdown",
   "metadata": {},
   "source": [
    "## Y hago un pequeño DataFrame de esas dos compañías resultantes."
   ]
  },
  {
   "cell_type": "code",
   "execution_count": 179,
   "metadata": {},
   "outputs": [
    {
     "data": {
      "text/html": [
       "<div>\n",
       "<style scoped>\n",
       "    .dataframe tbody tr th:only-of-type {\n",
       "        vertical-align: middle;\n",
       "    }\n",
       "\n",
       "    .dataframe tbody tr th {\n",
       "        vertical-align: top;\n",
       "    }\n",
       "\n",
       "    .dataframe thead th {\n",
       "        text-align: right;\n",
       "    }\n",
       "</style>\n",
       "<table border=\"1\" class=\"dataframe\">\n",
       "  <thead>\n",
       "    <tr style=\"text-align: right;\">\n",
       "      <th></th>\n",
       "      <th>_id</th>\n",
       "      <th>category_code</th>\n",
       "      <th>founded_year</th>\n",
       "      <th>name</th>\n",
       "      <th>number_of_employees</th>\n",
       "      <th>position</th>\n",
       "    </tr>\n",
       "  </thead>\n",
       "  <tbody>\n",
       "    <tr>\n",
       "      <th>0</th>\n",
       "      <td>5c6aa73124490307beef1fe3</td>\n",
       "      <td>games_video</td>\n",
       "      <td>2006</td>\n",
       "      <td>Curse</td>\n",
       "      <td>58</td>\n",
       "      <td>{'type': 'Point', 'coordinates': [-122.399972,...</td>\n",
       "    </tr>\n",
       "    <tr>\n",
       "      <th>1</th>\n",
       "      <td>5c6aa73124490307beef2088</td>\n",
       "      <td>web</td>\n",
       "      <td>2008</td>\n",
       "      <td>Lolapps</td>\n",
       "      <td>65</td>\n",
       "      <td>{'type': 'Point', 'coordinates': [-122.3999719...</td>\n",
       "    </tr>\n",
       "  </tbody>\n",
       "</table>\n",
       "</div>"
      ],
      "text/plain": [
       "                        _id category_code  founded_year     name  \\\n",
       "0  5c6aa73124490307beef1fe3   games_video          2006    Curse   \n",
       "1  5c6aa73124490307beef2088           web          2008  Lolapps   \n",
       "\n",
       "   number_of_employees                                           position  \n",
       "0                   58  {'type': 'Point', 'coordinates': [-122.399972,...  \n",
       "1                   65  {'type': 'Point', 'coordinates': [-122.3999719...  "
      ]
     },
     "execution_count": 179,
     "metadata": {},
     "output_type": "execute_result"
    }
   ],
   "source": [
    "df = pd.DataFrame(companies)\n",
    "df.head()"
   ]
  },
  {
   "cell_type": "code",
   "execution_count": 165,
   "metadata": {},
   "outputs": [
    {
     "name": "stdout",
     "output_type": "stream",
     "text": [
      "1\n"
     ]
    },
    {
     "name": "stderr",
     "output_type": "stream",
     "text": [
      "/home/carlosmd14/.local/lib/python3.6/site-packages/ipykernel_launcher.py:14: DeprecationWarning: count is deprecated. Use Collection.count_documents instead.\n",
      "  \n"
     ]
    },
    {
     "data": {
      "text/html": [
       "<div>\n",
       "<style scoped>\n",
       "    .dataframe tbody tr th:only-of-type {\n",
       "        vertical-align: middle;\n",
       "    }\n",
       "\n",
       "    .dataframe tbody tr th {\n",
       "        vertical-align: top;\n",
       "    }\n",
       "\n",
       "    .dataframe thead th {\n",
       "        text-align: right;\n",
       "    }\n",
       "</style>\n",
       "<table border=\"1\" class=\"dataframe\">\n",
       "  <thead>\n",
       "    <tr style=\"text-align: right;\">\n",
       "      <th></th>\n",
       "      <th>_id</th>\n",
       "      <th>category_code</th>\n",
       "      <th>founded_year</th>\n",
       "      <th>name</th>\n",
       "      <th>number_of_employees</th>\n",
       "      <th>position</th>\n",
       "    </tr>\n",
       "  </thead>\n",
       "  <tbody>\n",
       "    <tr>\n",
       "      <th>0</th>\n",
       "      <td>5c6aa73124490307beef2068</td>\n",
       "      <td>mobile</td>\n",
       "      <td>2006</td>\n",
       "      <td>Airtag</td>\n",
       "      <td>50</td>\n",
       "      <td>{'type': 'Point', 'coordinates': [-74.0082089,...</td>\n",
       "    </tr>\n",
       "  </tbody>\n",
       "</table>\n",
       "</div>"
      ],
      "text/plain": [
       "                        _id category_code  founded_year    name  \\\n",
       "0  5c6aa73124490307beef2068        mobile          2006  Airtag   \n",
       "\n",
       "   number_of_employees                                           position  \n",
       "0                   50  {'type': 'Point', 'coordinates': [-74.0082089,...  "
      ]
     },
     "execution_count": 165,
     "metadata": {},
     "output_type": "execute_result"
    }
   ],
   "source": [
    "cursor = db.comp_coords.find({\n",
    "  \"position\": {\n",
    "    \"$near\": {\n",
    "      \"$geometry\": {\n",
    "        \"type\": \"Point\",\n",
    "        \"coordinates\": [-74, 40.7]\n",
    "      },\n",
    "      \"$minDistance\": 0,\n",
    "      \"$maxDistance\":1000\n",
    "    }\n",
    "  }\n",
    "})\n",
    "\n",
    "print(cursor.count())\n",
    "\n",
    "df = pd.DataFrame(list(cursor))\n",
    "df.tail()"
   ]
  },
  {
   "cell_type": "code",
   "execution_count": 138,
   "metadata": {},
   "outputs": [
    {
     "ename": "ValueError",
     "evalue": "DataFrame constructor not properly called!",
     "output_type": "error",
     "traceback": [
      "\u001b[0;31m---------------------------------------------------------------------------\u001b[0m",
      "\u001b[0;31mValueError\u001b[0m                                Traceback (most recent call last)",
      "\u001b[0;32m<ipython-input-138-76c2e28b9de0>\u001b[0m in \u001b[0;36m<module>\u001b[0;34m\u001b[0m\n\u001b[0;32m----> 1\u001b[0;31m \u001b[0mdf2\u001b[0m \u001b[0;34m=\u001b[0m \u001b[0mpd\u001b[0m\u001b[0;34m.\u001b[0m\u001b[0mDataFrame\u001b[0m\u001b[0;34m.\u001b[0m\u001b[0mfrom_dict\u001b[0m\u001b[0;34m(\u001b[0m\u001b[0;34m\"comp_with_coords.json\"\u001b[0m\u001b[0;34m,\u001b[0m \u001b[0morient\u001b[0m\u001b[0;34m=\u001b[0m\u001b[0;34m'columns'\u001b[0m\u001b[0;34m)\u001b[0m\u001b[0;34m\u001b[0m\u001b[0;34m\u001b[0m\u001b[0m\n\u001b[0m\u001b[1;32m      2\u001b[0m \u001b[0;34m\u001b[0m\u001b[0m\n\u001b[1;32m      3\u001b[0m \u001b[0;34m\u001b[0m\u001b[0m\n\u001b[1;32m      4\u001b[0m \u001b[0;34m\u001b[0m\u001b[0m\n\u001b[1;32m      5\u001b[0m \u001b[0mdf2\u001b[0m\u001b[0;34m.\u001b[0m\u001b[0mhead\u001b[0m\u001b[0;34m(\u001b[0m\u001b[0;34m)\u001b[0m\u001b[0;34m\u001b[0m\u001b[0;34m\u001b[0m\u001b[0m\n",
      "\u001b[0;32m/usr/local/lib/python3.6/dist-packages/pandas/core/frame.py\u001b[0m in \u001b[0;36mfrom_dict\u001b[0;34m(cls, data, orient, dtype, columns)\u001b[0m\n\u001b[1;32m    983\u001b[0m             \u001b[0;32mraise\u001b[0m \u001b[0mValueError\u001b[0m\u001b[0;34m(\u001b[0m\u001b[0;34m'only recognize index or columns for orient'\u001b[0m\u001b[0;34m)\u001b[0m\u001b[0;34m\u001b[0m\u001b[0;34m\u001b[0m\u001b[0m\n\u001b[1;32m    984\u001b[0m \u001b[0;34m\u001b[0m\u001b[0m\n\u001b[0;32m--> 985\u001b[0;31m         \u001b[0;32mreturn\u001b[0m \u001b[0mcls\u001b[0m\u001b[0;34m(\u001b[0m\u001b[0mdata\u001b[0m\u001b[0;34m,\u001b[0m \u001b[0mindex\u001b[0m\u001b[0;34m=\u001b[0m\u001b[0mindex\u001b[0m\u001b[0;34m,\u001b[0m \u001b[0mcolumns\u001b[0m\u001b[0;34m=\u001b[0m\u001b[0mcolumns\u001b[0m\u001b[0;34m,\u001b[0m \u001b[0mdtype\u001b[0m\u001b[0;34m=\u001b[0m\u001b[0mdtype\u001b[0m\u001b[0;34m)\u001b[0m\u001b[0;34m\u001b[0m\u001b[0;34m\u001b[0m\u001b[0m\n\u001b[0m\u001b[1;32m    986\u001b[0m \u001b[0;34m\u001b[0m\u001b[0m\n\u001b[1;32m    987\u001b[0m     \u001b[0;32mdef\u001b[0m \u001b[0mto_dict\u001b[0m\u001b[0;34m(\u001b[0m\u001b[0mself\u001b[0m\u001b[0;34m,\u001b[0m \u001b[0morient\u001b[0m\u001b[0;34m=\u001b[0m\u001b[0;34m'dict'\u001b[0m\u001b[0;34m,\u001b[0m \u001b[0minto\u001b[0m\u001b[0;34m=\u001b[0m\u001b[0mdict\u001b[0m\u001b[0;34m)\u001b[0m\u001b[0;34m:\u001b[0m\u001b[0;34m\u001b[0m\u001b[0;34m\u001b[0m\u001b[0m\n",
      "\u001b[0;32m/usr/local/lib/python3.6/dist-packages/pandas/core/frame.py\u001b[0m in \u001b[0;36m__init__\u001b[0;34m(self, data, index, columns, dtype, copy)\u001b[0m\n\u001b[1;32m    420\u001b[0m                                          dtype=values.dtype, copy=False)\n\u001b[1;32m    421\u001b[0m             \u001b[0;32melse\u001b[0m\u001b[0;34m:\u001b[0m\u001b[0;34m\u001b[0m\u001b[0;34m\u001b[0m\u001b[0m\n\u001b[0;32m--> 422\u001b[0;31m                 \u001b[0;32mraise\u001b[0m \u001b[0mValueError\u001b[0m\u001b[0;34m(\u001b[0m\u001b[0;34m'DataFrame constructor not properly called!'\u001b[0m\u001b[0;34m)\u001b[0m\u001b[0;34m\u001b[0m\u001b[0;34m\u001b[0m\u001b[0m\n\u001b[0m\u001b[1;32m    423\u001b[0m \u001b[0;34m\u001b[0m\u001b[0m\n\u001b[1;32m    424\u001b[0m         \u001b[0mNDFrame\u001b[0m\u001b[0;34m.\u001b[0m\u001b[0m__init__\u001b[0m\u001b[0;34m(\u001b[0m\u001b[0mself\u001b[0m\u001b[0;34m,\u001b[0m \u001b[0mmgr\u001b[0m\u001b[0;34m,\u001b[0m \u001b[0mfastpath\u001b[0m\u001b[0;34m=\u001b[0m\u001b[0;32mTrue\u001b[0m\u001b[0;34m)\u001b[0m\u001b[0;34m\u001b[0m\u001b[0;34m\u001b[0m\u001b[0m\n",
      "\u001b[0;31mValueError\u001b[0m: DataFrame constructor not properly called!"
     ]
    }
   ],
   "source": [
    "df2 = pd.DataFrame.from_dict(\"comp_with_coords.json\", orient='columns')\n",
    "\n",
    "\n",
    "\n",
    "df2.head()"
   ]
  },
  {
   "cell_type": "code",
   "execution_count": null,
   "metadata": {},
   "outputs": [],
   "source": [
    "{ \"offices.latitude\": {\"$exists\": True} },{ \"offices.longitude\": {\"$exists\": True} }"
   ]
  }
 ],
 "metadata": {
  "kernelspec": {
   "display_name": "Python 3",
   "language": "python",
   "name": "python3"
  },
  "language_info": {
   "codemirror_mode": {
    "name": "ipython",
    "version": 3
   },
   "file_extension": ".py",
   "mimetype": "text/x-python",
   "name": "python",
   "nbconvert_exporter": "python",
   "pygments_lexer": "ipython3",
   "version": "3.6.7"
  }
 },
 "nbformat": 4,
 "nbformat_minor": 2
}
