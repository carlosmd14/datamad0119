{
 "cells": [
  {
   "cell_type": "markdown",
   "metadata": {},
   "source": [
    "# Tableau Project - Business Intelligence\n",
    "---\n",
    "\n",
    "### Se pretende establecer la localización más óptima para las oficinas de una empresa con los siguientes parámetros:\n",
    "\n",
    "* Es una compañía de software que crea videojuegos.\n",
    "* Tiene 50 empleados.\n",
    "* Debe haber ingenieros de software trabajando alrededor, así como diseñadores, desarrolladores y ejecutivos para cubrir los intereses del equipo.\n",
    "* Debe haber un buen ratio de empresas grandes vs. startups.\n",
    "* Se prefieren empresas de reciente creación.\n",
    "\n"
   ]
  },
  {
   "cell_type": "markdown",
   "metadata": {},
   "source": [
    "## Se importan las librerías y se hacen las declaraciones pertinentes para Mongo"
   ]
  },
  {
   "cell_type": "code",
   "execution_count": 12,
   "metadata": {},
   "outputs": [],
   "source": [
    "import pandas as pd\n",
    "import pymongo"
   ]
  },
  {
   "cell_type": "code",
   "execution_count": 10,
   "metadata": {},
   "outputs": [],
   "source": [
    "MongoClient = pymongo.MongoClient\n",
    "client = MongoClient()\n",
    "db = client.companies"
   ]
  },
  {
   "cell_type": "markdown",
   "metadata": {},
   "source": [
    "## Reviso cuáles son todas las categorías, para quedarme con las que necesito."
   ]
  },
  {
   "cell_type": "code",
   "execution_count": 22,
   "metadata": {},
   "outputs": [
    {
     "name": "stdout",
     "output_type": "stream",
     "text": [
      "['enterprise', 'web', 'software', 'news', 'network_hosting', 'games_video', 'social', 'music', 'mobile', 'search', 'advertising', 'messaging', 'photo_video', 'finance', 'security', 'ecommerce', 'hardware', 'travel', 'public_relations', 'other', 'real_estate', 'semiconductor', 'analytics', 'health', 'legal', 'sports', 'biotech', 'cleantech', 'education', 'consulting', 'transportation', None, 'hospitality', 'fashion', 'nanotech', 'nonprofit', 'automotive', 'design', 'manufacturing', 'government', 'local', 'medical']\n"
     ]
    }
   ],
   "source": [
    "cursor = db.companies.find({'category_code':{'$exists': 'true'}})\n",
    "categories = list(map(lambda r:r['category_code'], list(cursor)))\n",
    "\n",
    "category_codes = []\n",
    "for i in categories:\n",
    "    if i not in category_codes:\n",
    "        category_codes.append(i)\n",
    "    else:\n",
    "        pass\n",
    "print(category_codes)"
   ]
  },
  {
   "cell_type": "markdown",
   "metadata": {},
   "source": [
    "## Creo un nuevo Json con las coordenadas en el formato adecuado, y con las compañías filtradas por número de empleados, año de fundación, que no hayan sido deadpooled y por las categorías que me convienen."
   ]
  },
  {
   "cell_type": "code",
   "execution_count": 67,
   "metadata": {},
   "outputs": [],
   "source": [
    "def toGeoJSON(lista):\n",
    "    return {\n",
    "            \"type\": \"Point\",\n",
    "            \"coordinates\":[lista[1],lista[0]]\n",
    "        }\n",
    "\n",
    "def convertCompany(company):\n",
    "    dictList = []\n",
    "    for index in range(len(company['offices'])):\n",
    "        for key in company['offices']:\n",
    "            if key['latitude'] != None and key['longitude'] != None:\n",
    "                fields = {\n",
    "                \"name\": company[\"name\"],\n",
    "                \"category_code\": company[\"category_code\"],\n",
    "                \"number_of_employees\": company[\"number_of_employees\"],\n",
    "                \"founded_year\": company[\"founded_year\"],\n",
    "                \"position\": toGeoJSON([key['latitude'],key['longitude']])   \n",
    "                }\n",
    "                dictList.append(fields)\n",
    "        return dictList\n",
    "\n",
    "cursor = db.companies.find({ \"$and\": [ \n",
    "    { \"offices.latitude\": {\"$exists\": True} },\n",
    "    { \"offices.longitude\": {\"$exists\": True} }, {\"founded_year\" : {\"$gte\": 2003} }, {'deadpooled_year': {'$type': 10} }, {'number_of_employees' : {\"$gte\": 50} } , { '$or': [ {'category_code': 'web'}, {'category_code':'software'}, {'category_code':'mobile'},{'category_code': 'analytics'}, {'category_code': 'games_video'}, {'category_code':'ecommerce'}, {'category_code':'enterprise'},{'category_code':'finance'} ] } ] })\n",
    "\n",
    "geoList = list(map(lambda r: convertCompany(r),cursor))\n",
    "geoCompanies = [element for lista in geoList for element in lista]"
   ]
  },
  {
   "cell_type": "markdown",
   "metadata": {},
   "source": [
    "## DataFrame correspondiente al database recién creado."
   ]
  },
  {
   "cell_type": "code",
   "execution_count": 72,
   "metadata": {},
   "outputs": [
    {
     "data": {
      "text/html": [
       "<div>\n",
       "<style scoped>\n",
       "    .dataframe tbody tr th:only-of-type {\n",
       "        vertical-align: middle;\n",
       "    }\n",
       "\n",
       "    .dataframe tbody tr th {\n",
       "        vertical-align: top;\n",
       "    }\n",
       "\n",
       "    .dataframe thead th {\n",
       "        text-align: right;\n",
       "    }\n",
       "</style>\n",
       "<table border=\"1\" class=\"dataframe\">\n",
       "  <thead>\n",
       "    <tr style=\"text-align: right;\">\n",
       "      <th></th>\n",
       "      <th>category_code</th>\n",
       "      <th>founded_year</th>\n",
       "      <th>name</th>\n",
       "      <th>number_of_employees</th>\n",
       "      <th>position</th>\n",
       "    </tr>\n",
       "  </thead>\n",
       "  <tbody>\n",
       "    <tr>\n",
       "      <th>0</th>\n",
       "      <td>mobile</td>\n",
       "      <td>2005</td>\n",
       "      <td>Jajah</td>\n",
       "      <td>110</td>\n",
       "      <td>{'type': 'Point', 'coordinates': [-122.0899512...</td>\n",
       "    </tr>\n",
       "    <tr>\n",
       "      <th>1</th>\n",
       "      <td>games_video</td>\n",
       "      <td>2007</td>\n",
       "      <td>Livestream</td>\n",
       "      <td>120</td>\n",
       "      <td>{'type': 'Point', 'coordinates': [-73.995625, ...</td>\n",
       "    </tr>\n",
       "    <tr>\n",
       "      <th>2</th>\n",
       "      <td>games_video</td>\n",
       "      <td>2007</td>\n",
       "      <td>Ustream</td>\n",
       "      <td>250</td>\n",
       "      <td>{'type': 'Point', 'coordinates': [-122.07948, ...</td>\n",
       "    </tr>\n",
       "    <tr>\n",
       "      <th>3</th>\n",
       "      <td>enterprise</td>\n",
       "      <td>2004</td>\n",
       "      <td>KickApps</td>\n",
       "      <td>72</td>\n",
       "      <td>{'type': 'Point', 'coordinates': [-73.9843328,...</td>\n",
       "    </tr>\n",
       "    <tr>\n",
       "      <th>7</th>\n",
       "      <td>games_video</td>\n",
       "      <td>2005</td>\n",
       "      <td>RockYou</td>\n",
       "      <td>106</td>\n",
       "      <td>{'type': 'Point', 'coordinates': [-122.206893,...</td>\n",
       "    </tr>\n",
       "  </tbody>\n",
       "</table>\n",
       "</div>"
      ],
      "text/plain": [
       "  category_code  founded_year        name  number_of_employees  \\\n",
       "0        mobile          2005       Jajah                  110   \n",
       "1   games_video          2007  Livestream                  120   \n",
       "2   games_video          2007     Ustream                  250   \n",
       "3    enterprise          2004    KickApps                   72   \n",
       "7   games_video          2005     RockYou                  106   \n",
       "\n",
       "                                            position  \n",
       "0  {'type': 'Point', 'coordinates': [-122.0899512...  \n",
       "1  {'type': 'Point', 'coordinates': [-73.995625, ...  \n",
       "2  {'type': 'Point', 'coordinates': [-122.07948, ...  \n",
       "3  {'type': 'Point', 'coordinates': [-73.9843328,...  \n",
       "7  {'type': 'Point', 'coordinates': [-122.206893,...  "
      ]
     },
     "execution_count": 72,
     "metadata": {},
     "output_type": "execute_result"
    }
   ],
   "source": [
    "df = pd.DataFrame(geoCompanies)\n",
    "df = df.drop_duplicates(subset='name')\n",
    "df.head()"
   ]
  },
  {
   "cell_type": "markdown",
   "metadata": {},
   "source": [
    "## Guardo en formato json la nueva colección con las compañías que me interesan y con las coordenadas correctas."
   ]
  },
  {
   "cell_type": "code",
   "execution_count": 73,
   "metadata": {},
   "outputs": [],
   "source": [
    "df.to_json(\"comp_with_coords.json\", orient=\"records\", lines=True)"
   ]
  },
  {
   "cell_type": "markdown",
   "metadata": {},
   "source": [
    "## Recorro la ubicación de cada compañía para ver cuántas empresas tiene a 1000 metros a la redonda, y luego verifico cuántas tienen más, para usar ese número más adelante para quedarme solo con las que más compañías tienen a su alrededor."
   ]
  },
  {
   "cell_type": "code",
   "execution_count": 180,
   "metadata": {},
   "outputs": [
    {
     "name": "stderr",
     "output_type": "stream",
     "text": [
      "/home/carlosmd14/.local/lib/python3.6/site-packages/ipykernel_launcher.py:18: DeprecationWarning: count is deprecated. Use Collection.count_documents instead.\n"
     ]
    },
    {
     "data": {
      "text/plain": [
       "[18, 18]"
      ]
     },
     "execution_count": 180,
     "metadata": {},
     "output_type": "execute_result"
    }
   ],
   "source": [
    "cursor = db.comp_coords.find()\n",
    "maxCount = []\n",
    "for company in cursor:\n",
    "\n",
    "    cursor2 = db.comp_coords.find({\n",
    "      \"position\": {\n",
    "        \"$near\": {\n",
    "          \"$geometry\": {\n",
    "            \"type\": \"Point\",\n",
    "            \"coordinates\": [company['position']['coordinates'][0], company['position']['coordinates'][1]]\n",
    "          },\n",
    "          \"$minDistance\": 0,\n",
    "          \"$maxDistance\":1000\n",
    "        }\n",
    "      }\n",
    "    })\n",
    "\n",
    "    maxCount.append(cursor2.count())\n",
    "    \n",
    "list(filter(lambda x: x == max(maxCount), maxCount))"
   ]
  },
  {
   "cell_type": "markdown",
   "metadata": {},
   "source": [
    "## Al saber que las que más compañías tienen alrededor tienen 18 compañías, guardo en una lista solo aquellas que tienen 18 compañías alrededor."
   ]
  },
  {
   "cell_type": "code",
   "execution_count": 188,
   "metadata": {},
   "outputs": [
    {
     "name": "stderr",
     "output_type": "stream",
     "text": [
      "/home/carlosmd14/.local/lib/python3.6/site-packages/ipykernel_launcher.py:18: DeprecationWarning: count is deprecated. Use Collection.count_documents instead.\n"
     ]
    }
   ],
   "source": [
    "cursor = db.comp_coords.find()\n",
    "companies = []\n",
    "for company in cursor:\n",
    "\n",
    "    cursor2 = db.comp_coords.find({\n",
    "      \"position\": {\n",
    "        \"$near\": {\n",
    "          \"$geometry\": {\n",
    "            \"type\": \"Point\",\n",
    "            \"coordinates\": [company['position']['coordinates'][0], company['position']['coordinates'][1]]\n",
    "          },\n",
    "          \"$minDistance\": 0,\n",
    "          \"$maxDistance\":1000\n",
    "        }\n",
    "      }\n",
    "    })\n",
    "    \n",
    "    if cursor2.count() == 18:\n",
    "        companies.append(company)\n"
   ]
  },
  {
   "cell_type": "markdown",
   "metadata": {},
   "source": [
    "## Y hago un pequeño DataFrame de esas dos compañías resultantes."
   ]
  },
  {
   "cell_type": "code",
   "execution_count": 189,
   "metadata": {},
   "outputs": [
    {
     "data": {
      "text/html": [
       "<div>\n",
       "<style scoped>\n",
       "    .dataframe tbody tr th:only-of-type {\n",
       "        vertical-align: middle;\n",
       "    }\n",
       "\n",
       "    .dataframe tbody tr th {\n",
       "        vertical-align: top;\n",
       "    }\n",
       "\n",
       "    .dataframe thead th {\n",
       "        text-align: right;\n",
       "    }\n",
       "</style>\n",
       "<table border=\"1\" class=\"dataframe\">\n",
       "  <thead>\n",
       "    <tr style=\"text-align: right;\">\n",
       "      <th></th>\n",
       "      <th>_id</th>\n",
       "      <th>category_code</th>\n",
       "      <th>founded_year</th>\n",
       "      <th>name</th>\n",
       "      <th>number_of_employees</th>\n",
       "      <th>position</th>\n",
       "    </tr>\n",
       "  </thead>\n",
       "  <tbody>\n",
       "    <tr>\n",
       "      <th>0</th>\n",
       "      <td>5c6aa73124490307beef1fe3</td>\n",
       "      <td>games_video</td>\n",
       "      <td>2006</td>\n",
       "      <td>Curse</td>\n",
       "      <td>58</td>\n",
       "      <td>{'type': 'Point', 'coordinates': [-122.399972,...</td>\n",
       "    </tr>\n",
       "    <tr>\n",
       "      <th>1</th>\n",
       "      <td>5c6aa73124490307beef2088</td>\n",
       "      <td>web</td>\n",
       "      <td>2008</td>\n",
       "      <td>Lolapps</td>\n",
       "      <td>65</td>\n",
       "      <td>{'type': 'Point', 'coordinates': [-122.3999719...</td>\n",
       "    </tr>\n",
       "  </tbody>\n",
       "</table>\n",
       "</div>"
      ],
      "text/plain": [
       "                        _id category_code  founded_year     name  \\\n",
       "0  5c6aa73124490307beef1fe3   games_video          2006    Curse   \n",
       "1  5c6aa73124490307beef2088           web          2008  Lolapps   \n",
       "\n",
       "   number_of_employees                                           position  \n",
       "0                   58  {'type': 'Point', 'coordinates': [-122.399972,...  \n",
       "1                   65  {'type': 'Point', 'coordinates': [-122.3999719...  "
      ]
     },
     "execution_count": 189,
     "metadata": {},
     "output_type": "execute_result"
    }
   ],
   "source": [
    "df = pd.DataFrame(companies)\n",
    "df.head()"
   ]
  },
  {
   "cell_type": "markdown",
   "metadata": {},
   "source": [
    "## Como la compañía \"Curse\" se asemeja más a mis necesidades, me quedo con el dataset de las compañías alrededor de ella."
   ]
  },
  {
   "cell_type": "code",
   "execution_count": 190,
   "metadata": {},
   "outputs": [],
   "source": [
    "winner_lon = df['position'][0]['coordinates'][0]\n",
    "winner_lat = df['position'][0]['coordinates'][1]"
   ]
  },
  {
   "cell_type": "code",
   "execution_count": 202,
   "metadata": {},
   "outputs": [],
   "source": [
    "cursor2 = db.comp_coords.find({\n",
    "  \"position\": {\n",
    "    \"$near\": {\n",
    "      \"$geometry\": {\n",
    "        \"type\": \"Point\",\n",
    "        \"coordinates\": [winner_lon, winner_lat]\n",
    "      },\n",
    "      \"$minDistance\": 0,\n",
    "      \"$maxDistance\":1000\n",
    "    }\n",
    "  }\n",
    "})\n",
    "\n",
    "df2 = pd.DataFrame(list(cursor2))"
   ]
  },
  {
   "cell_type": "code",
   "execution_count": 203,
   "metadata": {},
   "outputs": [
    {
     "data": {
      "text/html": [
       "<div>\n",
       "<style scoped>\n",
       "    .dataframe tbody tr th:only-of-type {\n",
       "        vertical-align: middle;\n",
       "    }\n",
       "\n",
       "    .dataframe tbody tr th {\n",
       "        vertical-align: top;\n",
       "    }\n",
       "\n",
       "    .dataframe thead th {\n",
       "        text-align: right;\n",
       "    }\n",
       "</style>\n",
       "<table border=\"1\" class=\"dataframe\">\n",
       "  <thead>\n",
       "    <tr style=\"text-align: right;\">\n",
       "      <th></th>\n",
       "      <th>category_code</th>\n",
       "      <th>founded_year</th>\n",
       "      <th>name</th>\n",
       "      <th>number_of_employees</th>\n",
       "      <th>position</th>\n",
       "    </tr>\n",
       "  </thead>\n",
       "  <tbody>\n",
       "    <tr>\n",
       "      <th>13</th>\n",
       "      <td>analytics</td>\n",
       "      <td>2007</td>\n",
       "      <td>Kontagent</td>\n",
       "      <td>80</td>\n",
       "      <td>{'type': 'Point', 'coordinates': [-122.4020593...</td>\n",
       "    </tr>\n",
       "    <tr>\n",
       "      <th>14</th>\n",
       "      <td>software</td>\n",
       "      <td>2007</td>\n",
       "      <td>Dropbox</td>\n",
       "      <td>350</td>\n",
       "      <td>{'type': 'Point', 'coordinates': [-122.4084994...</td>\n",
       "    </tr>\n",
       "    <tr>\n",
       "      <th>15</th>\n",
       "      <td>games_video</td>\n",
       "      <td>2008</td>\n",
       "      <td>Crunchyroll</td>\n",
       "      <td>50</td>\n",
       "      <td>{'type': 'Point', 'coordinates': [-122.393229,...</td>\n",
       "    </tr>\n",
       "    <tr>\n",
       "      <th>16</th>\n",
       "      <td>software</td>\n",
       "      <td>2003</td>\n",
       "      <td>Splunk</td>\n",
       "      <td>500</td>\n",
       "      <td>{'type': 'Point', 'coordinates': [-122.390945,...</td>\n",
       "    </tr>\n",
       "    <tr>\n",
       "      <th>17</th>\n",
       "      <td>web</td>\n",
       "      <td>2006</td>\n",
       "      <td>Weebly</td>\n",
       "      <td>70</td>\n",
       "      <td>{'type': 'Point', 'coordinates': [-122.400729,...</td>\n",
       "    </tr>\n",
       "  </tbody>\n",
       "</table>\n",
       "</div>"
      ],
      "text/plain": [
       "   category_code  founded_year         name  number_of_employees  \\\n",
       "13     analytics          2007    Kontagent                   80   \n",
       "14      software          2007      Dropbox                  350   \n",
       "15   games_video          2008  Crunchyroll                   50   \n",
       "16      software          2003       Splunk                  500   \n",
       "17           web          2006       Weebly                   70   \n",
       "\n",
       "                                             position  \n",
       "13  {'type': 'Point', 'coordinates': [-122.4020593...  \n",
       "14  {'type': 'Point', 'coordinates': [-122.4084994...  \n",
       "15  {'type': 'Point', 'coordinates': [-122.393229,...  \n",
       "16  {'type': 'Point', 'coordinates': [-122.390945,...  \n",
       "17  {'type': 'Point', 'coordinates': [-122.400729,...  "
      ]
     },
     "execution_count": 203,
     "metadata": {},
     "output_type": "execute_result"
    }
   ],
   "source": [
    "df2 = df2.drop(['_id'], axis=1)\n",
    "df2.tail()"
   ]
  },
  {
   "cell_type": "markdown",
   "metadata": {},
   "source": [
    "## Guardo como json para llevarlo a Tableau"
   ]
  },
  {
   "cell_type": "code",
   "execution_count": 205,
   "metadata": {},
   "outputs": [],
   "source": [
    "df2.to_json(\"around_Curse.json\", orient=\"records\", lines=True)"
   ]
  },
  {
   "cell_type": "markdown",
   "metadata": {},
   "source": [
    "## Pero también guardo uno con las coordenadas separadas por si Tableau no puede leerlas tal como están."
   ]
  },
  {
   "cell_type": "code",
   "execution_count": 209,
   "metadata": {
    "scrolled": true
   },
   "outputs": [
    {
     "data": {
      "text/html": [
       "<div>\n",
       "<style scoped>\n",
       "    .dataframe tbody tr th:only-of-type {\n",
       "        vertical-align: middle;\n",
       "    }\n",
       "\n",
       "    .dataframe tbody tr th {\n",
       "        vertical-align: top;\n",
       "    }\n",
       "\n",
       "    .dataframe thead th {\n",
       "        text-align: right;\n",
       "    }\n",
       "</style>\n",
       "<table border=\"1\" class=\"dataframe\">\n",
       "  <thead>\n",
       "    <tr style=\"text-align: right;\">\n",
       "      <th></th>\n",
       "      <th>category_code</th>\n",
       "      <th>founded_year</th>\n",
       "      <th>name</th>\n",
       "      <th>number_of_employees</th>\n",
       "      <th>long</th>\n",
       "      <th>lat</th>\n",
       "    </tr>\n",
       "  </thead>\n",
       "  <tbody>\n",
       "    <tr>\n",
       "      <th>0</th>\n",
       "      <td>games_video</td>\n",
       "      <td>2006</td>\n",
       "      <td>Curse</td>\n",
       "      <td>58</td>\n",
       "      <td>-122.399972</td>\n",
       "      <td>37.787092</td>\n",
       "    </tr>\n",
       "    <tr>\n",
       "      <th>1</th>\n",
       "      <td>web</td>\n",
       "      <td>2008</td>\n",
       "      <td>Lolapps</td>\n",
       "      <td>65</td>\n",
       "      <td>-122.399972</td>\n",
       "      <td>37.787092</td>\n",
       "    </tr>\n",
       "    <tr>\n",
       "      <th>2</th>\n",
       "      <td>games_video</td>\n",
       "      <td>2003</td>\n",
       "      <td>hi5</td>\n",
       "      <td>100</td>\n",
       "      <td>-122.400558</td>\n",
       "      <td>37.788668</td>\n",
       "    </tr>\n",
       "    <tr>\n",
       "      <th>3</th>\n",
       "      <td>web</td>\n",
       "      <td>2007</td>\n",
       "      <td>Huddler</td>\n",
       "      <td>52</td>\n",
       "      <td>-122.401362</td>\n",
       "      <td>37.789321</td>\n",
       "    </tr>\n",
       "    <tr>\n",
       "      <th>4</th>\n",
       "      <td>enterprise</td>\n",
       "      <td>2007</td>\n",
       "      <td>Twilio</td>\n",
       "      <td>100</td>\n",
       "      <td>-122.400683</td>\n",
       "      <td>37.789850</td>\n",
       "    </tr>\n",
       "  </tbody>\n",
       "</table>\n",
       "</div>"
      ],
      "text/plain": [
       "  category_code  founded_year     name  number_of_employees        long  \\\n",
       "0   games_video          2006    Curse                   58 -122.399972   \n",
       "1           web          2008  Lolapps                   65 -122.399972   \n",
       "2   games_video          2003      hi5                  100 -122.400558   \n",
       "3           web          2007  Huddler                   52 -122.401362   \n",
       "4    enterprise          2007   Twilio                  100 -122.400683   \n",
       "\n",
       "         lat  \n",
       "0  37.787092  \n",
       "1  37.787092  \n",
       "2  37.788668  \n",
       "3  37.789321  \n",
       "4  37.789850  "
      ]
     },
     "execution_count": 209,
     "metadata": {},
     "output_type": "execute_result"
    }
   ],
   "source": [
    "coords_df = pd.DataFrame(pd.DataFrame(df2[\"position\"].values.flatten().tolist())[\"coordinates\"].values.tolist())\n",
    "clean_df = pd.concat([df2,coords_df],axis=1)\n",
    "clean_df.drop([\"position\"], inplace=True, axis=1)\n",
    "clean_df = clean_df.rename({0:\"long\",1:\"lat\"}, axis=1)\n",
    "clean_df.head()"
   ]
  },
  {
   "cell_type": "code",
   "execution_count": 210,
   "metadata": {},
   "outputs": [],
   "source": [
    "clean_df.to_json('around_Curse2.json', orient=\"records\", lines=True)"
   ]
  },
  {
   "cell_type": "markdown",
   "metadata": {},
   "source": [
    "# Resultados y conclusiones\n",
    "---"
   ]
  },
  {
   "cell_type": "markdown",
   "metadata": {},
   "source": [
    "### He exportado este último json resultante a Tableau y los resultados se pueden ver en el siguiente [enlace](https://public.tableau.com/profile/carlos.madriz#!/vizhome/Tableau_Project_Ironhack/Hoja1), así como en la imagen a continuación, en la que el tamaño de cada círculo representa el número de empleados de la empresa, mientras que el gradiente de color azul representa el año de fundación, siendo las más oscuras las más recientes. ![Mapa de Tableau](./Screenshot_Tableau.png \"Mapa de Tableau\")\n"
   ]
  }
 ],
 "metadata": {
  "kernelspec": {
   "display_name": "Python 3",
   "language": "python",
   "name": "python3"
  },
  "language_info": {
   "codemirror_mode": {
    "name": "ipython",
    "version": 3
   },
   "file_extension": ".py",
   "mimetype": "text/x-python",
   "name": "python",
   "nbconvert_exporter": "python",
   "pygments_lexer": "ipython3",
   "version": "3.6.7"
  }
 },
 "nbformat": 4,
 "nbformat_minor": 2
}
